{
 "cells": [
  {
   "cell_type": "markdown",
   "metadata": {},
   "source": [
    "### Importing Packages"
   ]
  },
  {
   "cell_type": "code",
   "execution_count": 244,
   "metadata": {},
   "outputs": [],
   "source": [
    "import pandas as pd\n",
    "import numpy as np\n",
    "import matplotlib.pyplot as plt\n",
    "import seaborn as sns\n",
    "from sklearn.metrics.pairwise import cosine_similarity"
   ]
  },
  {
   "cell_type": "markdown",
   "metadata": {},
   "source": [
    "# Adding more data"
   ]
  },
  {
   "cell_type": "markdown",
   "metadata": {},
   "source": [
    "One of the larger complaints we got was that there was very little data-so by adding more we are hoping to provide more comprehensive recommendations. We found datasets for Netflix, Amazon, Disney+, and Hulu all made by the same person and sharing the same formatting. As such, using these four in tandem will give us more data in general."
   ]
  },
  {
   "cell_type": "code",
   "execution_count": 245,
   "metadata": {},
   "outputs": [],
   "source": [
    "netflix_df = pd.read_csv('netflix_titles.csv')\n",
    "amazon_df = pd.read_csv('amazon_prime_titles.csv')\n",
    "disney_df = pd.read_csv('disney_plus_titles.csv')\n",
    "hulu_df = pd.read_csv('hulu_titles.csv')"
   ]
  },
  {
   "cell_type": "markdown",
   "metadata": {},
   "source": [
    "- Getting the information columns that we have and checking their data-types and number instances on which columns"
   ]
  },
  {
   "cell_type": "code",
   "execution_count": 246,
   "metadata": {
    "scrolled": true
   },
   "outputs": [
    {
     "name": "stdout",
     "output_type": "stream",
     "text": [
      "<class 'pandas.core.frame.DataFrame'>\n",
      "RangeIndex: 8807 entries, 0 to 8806\n",
      "Data columns (total 12 columns):\n",
      " #   Column        Non-Null Count  Dtype \n",
      "---  ------        --------------  ----- \n",
      " 0   show_id       8807 non-null   object\n",
      " 1   type          8807 non-null   object\n",
      " 2   title         8807 non-null   object\n",
      " 3   director      6173 non-null   object\n",
      " 4   cast          7982 non-null   object\n",
      " 5   country       7976 non-null   object\n",
      " 6   date_added    8797 non-null   object\n",
      " 7   release_year  8807 non-null   int64 \n",
      " 8   rating        8803 non-null   object\n",
      " 9   duration      8804 non-null   object\n",
      " 10  listed_in     8807 non-null   object\n",
      " 11  description   8807 non-null   object\n",
      "dtypes: int64(1), object(11)\n",
      "memory usage: 825.8+ KB\n"
     ]
    }
   ],
   "source": [
    "netflix_df.info()"
   ]
  },
  {
   "cell_type": "code",
   "execution_count": 247,
   "metadata": {},
   "outputs": [
    {
     "name": "stdout",
     "output_type": "stream",
     "text": [
      "<class 'pandas.core.frame.DataFrame'>\n",
      "RangeIndex: 9668 entries, 0 to 9667\n",
      "Data columns (total 12 columns):\n",
      " #   Column        Non-Null Count  Dtype \n",
      "---  ------        --------------  ----- \n",
      " 0   show_id       9668 non-null   object\n",
      " 1   type          9668 non-null   object\n",
      " 2   title         9668 non-null   object\n",
      " 3   director      7586 non-null   object\n",
      " 4   cast          8435 non-null   object\n",
      " 5   country       672 non-null    object\n",
      " 6   date_added    155 non-null    object\n",
      " 7   release_year  9668 non-null   int64 \n",
      " 8   rating        9331 non-null   object\n",
      " 9   duration      9668 non-null   object\n",
      " 10  listed_in     9668 non-null   object\n",
      " 11  description   9668 non-null   object\n",
      "dtypes: int64(1), object(11)\n",
      "memory usage: 906.5+ KB\n"
     ]
    }
   ],
   "source": [
    "amazon_df.info()"
   ]
  },
  {
   "cell_type": "code",
   "execution_count": 248,
   "metadata": {},
   "outputs": [
    {
     "name": "stdout",
     "output_type": "stream",
     "text": [
      "<class 'pandas.core.frame.DataFrame'>\n",
      "RangeIndex: 1450 entries, 0 to 1449\n",
      "Data columns (total 12 columns):\n",
      " #   Column        Non-Null Count  Dtype \n",
      "---  ------        --------------  ----- \n",
      " 0   show_id       1450 non-null   object\n",
      " 1   type          1450 non-null   object\n",
      " 2   title         1450 non-null   object\n",
      " 3   director      977 non-null    object\n",
      " 4   cast          1260 non-null   object\n",
      " 5   country       1231 non-null   object\n",
      " 6   date_added    1447 non-null   object\n",
      " 7   release_year  1450 non-null   int64 \n",
      " 8   rating        1447 non-null   object\n",
      " 9   duration      1450 non-null   object\n",
      " 10  listed_in     1450 non-null   object\n",
      " 11  description   1450 non-null   object\n",
      "dtypes: int64(1), object(11)\n",
      "memory usage: 136.1+ KB\n"
     ]
    }
   ],
   "source": [
    "disney_df.info()"
   ]
  },
  {
   "cell_type": "code",
   "execution_count": 249,
   "metadata": {},
   "outputs": [
    {
     "name": "stdout",
     "output_type": "stream",
     "text": [
      "<class 'pandas.core.frame.DataFrame'>\n",
      "RangeIndex: 3073 entries, 0 to 3072\n",
      "Data columns (total 12 columns):\n",
      " #   Column        Non-Null Count  Dtype  \n",
      "---  ------        --------------  -----  \n",
      " 0   show_id       3073 non-null   object \n",
      " 1   type          3073 non-null   object \n",
      " 2   title         3073 non-null   object \n",
      " 3   director      3 non-null      object \n",
      " 4   cast          0 non-null      float64\n",
      " 5   country       1620 non-null   object \n",
      " 6   date_added    3045 non-null   object \n",
      " 7   release_year  3073 non-null   int64  \n",
      " 8   rating        2553 non-null   object \n",
      " 9   duration      2594 non-null   object \n",
      " 10  listed_in     3073 non-null   object \n",
      " 11  description   3069 non-null   object \n",
      "dtypes: float64(1), int64(1), object(10)\n",
      "memory usage: 288.2+ KB\n"
     ]
    }
   ],
   "source": [
    "hulu_df.info()"
   ]
  },
  {
   "cell_type": "markdown",
   "metadata": {},
   "source": [
    "we can see that all four share the same formatting, so we can combine them all"
   ]
  },
  {
   "cell_type": "markdown",
   "metadata": {},
   "source": [
    "However, first we can make features for where the show/movie originated from. This is so we can recommend shows from the same streaming service, increasing the likelihood of them watching it"
   ]
  },
  {
   "cell_type": "code",
   "execution_count": 250,
   "metadata": {},
   "outputs": [],
   "source": [
    "netflix_df['netflix'] = 1\n",
    "amazon_df['amazon'] = 1\n",
    "disney_df['disney'] = 1\n",
    "hulu_df['hulu'] = 1"
   ]
  },
  {
   "cell_type": "code",
   "execution_count": 251,
   "metadata": {},
   "outputs": [],
   "source": [
    "df = pd.concat([netflix_df,amazon_df,disney_df,hulu_df])"
   ]
  },
  {
   "cell_type": "code",
   "execution_count": 252,
   "metadata": {},
   "outputs": [
    {
     "data": {
      "text/html": [
       "<div>\n",
       "<style scoped>\n",
       "    .dataframe tbody tr th:only-of-type {\n",
       "        vertical-align: middle;\n",
       "    }\n",
       "\n",
       "    .dataframe tbody tr th {\n",
       "        vertical-align: top;\n",
       "    }\n",
       "\n",
       "    .dataframe thead th {\n",
       "        text-align: right;\n",
       "    }\n",
       "</style>\n",
       "<table border=\"1\" class=\"dataframe\">\n",
       "  <thead>\n",
       "    <tr style=\"text-align: right;\">\n",
       "      <th></th>\n",
       "      <th>show_id</th>\n",
       "      <th>type</th>\n",
       "      <th>title</th>\n",
       "      <th>director</th>\n",
       "      <th>cast</th>\n",
       "      <th>country</th>\n",
       "      <th>date_added</th>\n",
       "      <th>release_year</th>\n",
       "      <th>rating</th>\n",
       "      <th>duration</th>\n",
       "      <th>listed_in</th>\n",
       "      <th>description</th>\n",
       "      <th>netflix</th>\n",
       "      <th>amazon</th>\n",
       "      <th>disney</th>\n",
       "      <th>hulu</th>\n",
       "    </tr>\n",
       "  </thead>\n",
       "  <tbody>\n",
       "    <tr>\n",
       "      <th>0</th>\n",
       "      <td>s1</td>\n",
       "      <td>Movie</td>\n",
       "      <td>Dick Johnson Is Dead</td>\n",
       "      <td>Kirsten Johnson</td>\n",
       "      <td>NaN</td>\n",
       "      <td>United States</td>\n",
       "      <td>September 25, 2021</td>\n",
       "      <td>2020</td>\n",
       "      <td>PG-13</td>\n",
       "      <td>90 min</td>\n",
       "      <td>Documentaries</td>\n",
       "      <td>As her father nears the end of his life, filmm...</td>\n",
       "      <td>1.0</td>\n",
       "      <td>NaN</td>\n",
       "      <td>NaN</td>\n",
       "      <td>NaN</td>\n",
       "    </tr>\n",
       "    <tr>\n",
       "      <th>1</th>\n",
       "      <td>s2</td>\n",
       "      <td>TV Show</td>\n",
       "      <td>Blood &amp; Water</td>\n",
       "      <td>NaN</td>\n",
       "      <td>Ama Qamata, Khosi Ngema, Gail Mabalane, Thaban...</td>\n",
       "      <td>South Africa</td>\n",
       "      <td>September 24, 2021</td>\n",
       "      <td>2021</td>\n",
       "      <td>TV-MA</td>\n",
       "      <td>2 Seasons</td>\n",
       "      <td>International TV Shows, TV Dramas, TV Mysteries</td>\n",
       "      <td>After crossing paths at a party, a Cape Town t...</td>\n",
       "      <td>1.0</td>\n",
       "      <td>NaN</td>\n",
       "      <td>NaN</td>\n",
       "      <td>NaN</td>\n",
       "    </tr>\n",
       "    <tr>\n",
       "      <th>2</th>\n",
       "      <td>s3</td>\n",
       "      <td>TV Show</td>\n",
       "      <td>Ganglands</td>\n",
       "      <td>Julien Leclercq</td>\n",
       "      <td>Sami Bouajila, Tracy Gotoas, Samuel Jouy, Nabi...</td>\n",
       "      <td>NaN</td>\n",
       "      <td>September 24, 2021</td>\n",
       "      <td>2021</td>\n",
       "      <td>TV-MA</td>\n",
       "      <td>1 Season</td>\n",
       "      <td>Crime TV Shows, International TV Shows, TV Act...</td>\n",
       "      <td>To protect his family from a powerful drug lor...</td>\n",
       "      <td>1.0</td>\n",
       "      <td>NaN</td>\n",
       "      <td>NaN</td>\n",
       "      <td>NaN</td>\n",
       "    </tr>\n",
       "    <tr>\n",
       "      <th>3</th>\n",
       "      <td>s4</td>\n",
       "      <td>TV Show</td>\n",
       "      <td>Jailbirds New Orleans</td>\n",
       "      <td>NaN</td>\n",
       "      <td>NaN</td>\n",
       "      <td>NaN</td>\n",
       "      <td>September 24, 2021</td>\n",
       "      <td>2021</td>\n",
       "      <td>TV-MA</td>\n",
       "      <td>1 Season</td>\n",
       "      <td>Docuseries, Reality TV</td>\n",
       "      <td>Feuds, flirtations and toilet talk go down amo...</td>\n",
       "      <td>1.0</td>\n",
       "      <td>NaN</td>\n",
       "      <td>NaN</td>\n",
       "      <td>NaN</td>\n",
       "    </tr>\n",
       "    <tr>\n",
       "      <th>4</th>\n",
       "      <td>s5</td>\n",
       "      <td>TV Show</td>\n",
       "      <td>Kota Factory</td>\n",
       "      <td>NaN</td>\n",
       "      <td>Mayur More, Jitendra Kumar, Ranjan Raj, Alam K...</td>\n",
       "      <td>India</td>\n",
       "      <td>September 24, 2021</td>\n",
       "      <td>2021</td>\n",
       "      <td>TV-MA</td>\n",
       "      <td>2 Seasons</td>\n",
       "      <td>International TV Shows, Romantic TV Shows, TV ...</td>\n",
       "      <td>In a city of coaching centers known to train I...</td>\n",
       "      <td>1.0</td>\n",
       "      <td>NaN</td>\n",
       "      <td>NaN</td>\n",
       "      <td>NaN</td>\n",
       "    </tr>\n",
       "  </tbody>\n",
       "</table>\n",
       "</div>"
      ],
      "text/plain": [
       "  show_id     type                  title         director  \\\n",
       "0      s1    Movie   Dick Johnson Is Dead  Kirsten Johnson   \n",
       "1      s2  TV Show          Blood & Water              NaN   \n",
       "2      s3  TV Show              Ganglands  Julien Leclercq   \n",
       "3      s4  TV Show  Jailbirds New Orleans              NaN   \n",
       "4      s5  TV Show           Kota Factory              NaN   \n",
       "\n",
       "                                                cast        country  \\\n",
       "0                                                NaN  United States   \n",
       "1  Ama Qamata, Khosi Ngema, Gail Mabalane, Thaban...   South Africa   \n",
       "2  Sami Bouajila, Tracy Gotoas, Samuel Jouy, Nabi...            NaN   \n",
       "3                                                NaN            NaN   \n",
       "4  Mayur More, Jitendra Kumar, Ranjan Raj, Alam K...          India   \n",
       "\n",
       "           date_added  release_year rating   duration  \\\n",
       "0  September 25, 2021          2020  PG-13     90 min   \n",
       "1  September 24, 2021          2021  TV-MA  2 Seasons   \n",
       "2  September 24, 2021          2021  TV-MA   1 Season   \n",
       "3  September 24, 2021          2021  TV-MA   1 Season   \n",
       "4  September 24, 2021          2021  TV-MA  2 Seasons   \n",
       "\n",
       "                                           listed_in  \\\n",
       "0                                      Documentaries   \n",
       "1    International TV Shows, TV Dramas, TV Mysteries   \n",
       "2  Crime TV Shows, International TV Shows, TV Act...   \n",
       "3                             Docuseries, Reality TV   \n",
       "4  International TV Shows, Romantic TV Shows, TV ...   \n",
       "\n",
       "                                         description  netflix  amazon  disney  \\\n",
       "0  As her father nears the end of his life, filmm...      1.0     NaN     NaN   \n",
       "1  After crossing paths at a party, a Cape Town t...      1.0     NaN     NaN   \n",
       "2  To protect his family from a powerful drug lor...      1.0     NaN     NaN   \n",
       "3  Feuds, flirtations and toilet talk go down amo...      1.0     NaN     NaN   \n",
       "4  In a city of coaching centers known to train I...      1.0     NaN     NaN   \n",
       "\n",
       "   hulu  \n",
       "0   NaN  \n",
       "1   NaN  \n",
       "2   NaN  \n",
       "3   NaN  \n",
       "4   NaN  "
      ]
     },
     "execution_count": 252,
     "metadata": {},
     "output_type": "execute_result"
    }
   ],
   "source": [
    "df.head()"
   ]
  },
  {
   "cell_type": "markdown",
   "metadata": {},
   "source": [
    "To replace the NaN values in the origin features, we will replace them with 0s"
   ]
  },
  {
   "cell_type": "code",
   "execution_count": 253,
   "metadata": {},
   "outputs": [],
   "source": [
    "df['netflix'] = df['netflix'].fillna(0)\n",
    "df['amazon'] = df['amazon'].fillna(0)\n",
    "df['disney'] = df['disney'].fillna(0)\n",
    "df['hulu'] = df['hulu'].fillna(0)"
   ]
  },
  {
   "cell_type": "markdown",
   "metadata": {},
   "source": [
    "- We are checking for the shape which has 22998 instances per column and 12 features "
   ]
  },
  {
   "cell_type": "code",
   "execution_count": 254,
   "metadata": {},
   "outputs": [
    {
     "data": {
      "text/plain": [
       "(22998, 16)"
      ]
     },
     "execution_count": 254,
     "metadata": {},
     "output_type": "execute_result"
    }
   ],
   "source": [
    "df.shape"
   ]
  },
  {
   "cell_type": "markdown",
   "metadata": {},
   "source": [
    "Since we combined four datasets, it is reasonable to assume there is some level of overlap between the four"
   ]
  },
  {
   "cell_type": "code",
   "execution_count": 255,
   "metadata": {},
   "outputs": [
    {
     "data": {
      "text/plain": [
       "(883, 16)"
      ]
     },
     "execution_count": 255,
     "metadata": {},
     "output_type": "execute_result"
    }
   ],
   "source": [
    "df[df.duplicated(['title'])].shape"
   ]
  },
  {
   "cell_type": "markdown",
   "metadata": {},
   "source": [
    "- Checking for the dtypes of columns"
   ]
  },
  {
   "cell_type": "code",
   "execution_count": 256,
   "metadata": {},
   "outputs": [
    {
     "data": {
      "text/plain": [
       "show_id          object\n",
       "type             object\n",
       "title            object\n",
       "director         object\n",
       "cast             object\n",
       "country          object\n",
       "date_added       object\n",
       "release_year      int64\n",
       "rating           object\n",
       "duration         object\n",
       "listed_in        object\n",
       "description      object\n",
       "netflix         float64\n",
       "amazon          float64\n",
       "disney          float64\n",
       "hulu            float64\n",
       "dtype: object"
      ]
     },
     "execution_count": 256,
     "metadata": {},
     "output_type": "execute_result"
    }
   ],
   "source": [
    "df.dtypes"
   ]
  },
  {
   "cell_type": "markdown",
   "metadata": {},
   "source": [
    "- Checking for the null values for each columns"
   ]
  },
  {
   "cell_type": "code",
   "execution_count": 257,
   "metadata": {},
   "outputs": [
    {
     "data": {
      "text/plain": [
       "show_id             0\n",
       "type                0\n",
       "title               0\n",
       "director         8259\n",
       "cast             5321\n",
       "country         11499\n",
       "date_added       9554\n",
       "release_year        0\n",
       "rating            864\n",
       "duration          482\n",
       "listed_in           0\n",
       "description         4\n",
       "netflix             0\n",
       "amazon              0\n",
       "disney              0\n",
       "hulu                0\n",
       "dtype: int64"
      ]
     },
     "execution_count": 257,
     "metadata": {},
     "output_type": "execute_result"
    }
   ],
   "source": [
    "df.isnull().sum()"
   ]
  },
  {
   "cell_type": "markdown",
   "metadata": {},
   "source": [
    "- Here we are printing rating column's unique value which would be our movie or show ratings."
   ]
  },
  {
   "cell_type": "code",
   "execution_count": 258,
   "metadata": {
    "scrolled": true
   },
   "outputs": [
    {
     "name": "stdout",
     "output_type": "stream",
     "text": [
      "Types of ratings: ['PG-13' 'TV-MA' 'PG' 'TV-14' 'TV-PG' 'TV-Y' 'TV-Y7' 'R' 'TV-G' 'G'\n",
      " 'NC-17' '74 min' '84 min' '66 min' 'NR' nan 'TV-Y7-FV' 'UR' '13+' 'ALL'\n",
      " '18+' '16+' '7+' 'TV-NR' 'UNRATED' '16' 'AGES_16_' 'AGES_18_' 'ALL_AGES'\n",
      " 'NOT_RATE' 'NOT RATED' '2 Seasons' '93 min' '4 Seasons' '136 min'\n",
      " '91 min' '85 min' '98 min' '89 min' '94 min' '86 min' '3 Seasons'\n",
      " '121 min' '88 min' '101 min' '1 Season' '83 min' '100 min' '95 min'\n",
      " '92 min' '96 min' '109 min' '99 min' '75 min' '87 min' '67 min' '104 min'\n",
      " '107 min' '103 min' '105 min' '119 min' '114 min' '82 min' '90 min'\n",
      " '130 min' '110 min' '80 min' '6 Seasons' '97 min' '111 min' '81 min'\n",
      " '49 min' '45 min' '41 min' '73 min' '40 min' '36 min' '39 min' '34 min'\n",
      " '47 min' '65 min' '37 min' '78 min' '102 min' '129 min' '115 min'\n",
      " '112 min' '61 min' '106 min' '76 min' '77 min' '79 min' '157 min'\n",
      " '28 min' '64 min' '7 min' '5 min' '6 min' '127 min' '142 min' '108 min'\n",
      " '57 min' '118 min' '116 min' '12 Seasons' '71 min']\n"
     ]
    }
   ],
   "source": [
    "print('Types of ratings:',df['rating'].unique())"
   ]
  },
  {
   "cell_type": "markdown",
   "metadata": {},
   "source": [
    "We see that the ratings also include durations, and are generally messy, with esveral titles that all essentially mean the same thing"
   ]
  },
  {
   "cell_type": "markdown",
   "metadata": {},
   "source": [
    "- In this snnipet here we are searching for the total number of movies and their unique durations. "
   ]
  },
  {
   "cell_type": "code",
   "execution_count": 259,
   "metadata": {},
   "outputs": [
    {
     "name": "stdout",
     "output_type": "stream",
     "text": [
      "Number of Movies: 15999 \n",
      "Show Durations: ['90 min' '91 min' '125 min' '104 min' '127 min' '67 min' '94 min'\n",
      " '161 min' '61 min' '166 min' '147 min' '103 min' '97 min' '106 min'\n",
      " '111 min' '110 min' '105 min' '96 min' '124 min' '116 min' '98 min'\n",
      " '23 min' '115 min' '122 min' '99 min' '88 min' '100 min' '102 min'\n",
      " '93 min' '95 min' '85 min' '83 min' '113 min' '13 min' '182 min' '48 min'\n",
      " '145 min' '87 min' '92 min' '80 min' '117 min' '128 min' '119 min'\n",
      " '143 min' '114 min' '118 min' '108 min' '63 min' '121 min' '142 min'\n",
      " '154 min' '120 min' '82 min' '109 min' '101 min' '86 min' '229 min'\n",
      " '76 min' '89 min' '156 min' '112 min' '107 min' '129 min' '135 min'\n",
      " '136 min' '165 min' '150 min' '133 min' '70 min' '84 min' '140 min'\n",
      " '78 min' '64 min' '59 min' '139 min' '69 min' '148 min' '189 min'\n",
      " '141 min' '130 min' '138 min' '81 min' '132 min' '123 min' '65 min'\n",
      " '68 min' '66 min' '62 min' '74 min' '131 min' '39 min' '46 min' '38 min'\n",
      " '126 min' '155 min' '159 min' '137 min' '12 min' '273 min' '36 min'\n",
      " '34 min' '77 min' '60 min' '49 min' '58 min' '72 min' '204 min' '212 min'\n",
      " '25 min' '73 min' '29 min' '47 min' '32 min' '35 min' '71 min' '149 min'\n",
      " '33 min' '15 min' '54 min' '224 min' '162 min' '37 min' '75 min' '79 min'\n",
      " '55 min' '158 min' '164 min' '173 min' '181 min' '185 min' '21 min'\n",
      " '24 min' '51 min' '151 min' '42 min' '22 min' '134 min' '177 min'\n",
      " '52 min' '14 min' '53 min' '8 min' '57 min' '28 min' '50 min' '9 min'\n",
      " '26 min' '45 min' '171 min' '27 min' '44 min' '146 min' '20 min'\n",
      " '157 min' '17 min' '203 min' '41 min' '30 min' '194 min' '233 min'\n",
      " '237 min' '230 min' '195 min' '253 min' '152 min' '190 min' '160 min'\n",
      " '208 min' '180 min' '144 min' '5 min' '174 min' '170 min' '192 min'\n",
      " '209 min' '187 min' '172 min' '16 min' '186 min' '11 min' '193 min'\n",
      " '176 min' '56 min' '169 min' '40 min' '10 min' '3 min' '168 min'\n",
      " '312 min' '153 min' '214 min' '31 min' '163 min' '19 min' nan '179 min'\n",
      " '43 min' '200 min' '196 min' '167 min' '178 min' '228 min' '18 min'\n",
      " '205 min' '201 min' '191 min' '6 min' '480 min' '4 min' '0 min' '601 min'\n",
      " '7 min' '1 min' '2 min' '541 min' '240 min' '479 min' '183 min' '481 min'\n",
      " '540 min' '550 min' '485 min' '175 min' '188 min' '207 min' '269 min']\n"
     ]
    }
   ],
   "source": [
    "print('Number of Movies:',\n",
    "      df[df['type'] == 'Movie']['duration'].count(),\n",
    "      '\\nShow Durations:',\n",
    "      df[df['type'] == 'Movie']['duration'].unique())"
   ]
  },
  {
   "cell_type": "markdown",
   "metadata": {},
   "source": [
    "- Same we are doing the shows that are presented inside our dataset"
   ]
  },
  {
   "cell_type": "code",
   "execution_count": 260,
   "metadata": {},
   "outputs": [
    {
     "name": "stdout",
     "output_type": "stream",
     "text": [
      "Number of Shows: 6517 \n",
      "Show Durations: ['2 Seasons' '1 Season' '9 Seasons' '4 Seasons' '5 Seasons' '3 Seasons'\n",
      " '6 Seasons' '7 Seasons' '10 Seasons' '8 Seasons' '17 Seasons'\n",
      " '13 Seasons' '15 Seasons' '12 Seasons' '11 Seasons' '29 Seasons'\n",
      " '19 Seasons' '21 Seasons' '14 Seasons' '32 Seasons' '16 Seasons'\n",
      " '23 Seasons' '20 Seasons' '30 Seasons' '22 Seasons' '25 Seasons'\n",
      " '34 Seasons' '26 Seasons']\n"
     ]
    }
   ],
   "source": [
    "print('Number of Shows:',\n",
    "      df[df['type'] == 'TV Show']['duration'].count(),\n",
    "      '\\nShow Durations:',\n",
    "      df[df['type'] == 'TV Show']['duration'].unique())"
   ]
  },
  {
   "cell_type": "markdown",
   "metadata": {},
   "source": [
    "<h4>Observations</h4>\n",
    "\n",
    "<ul>\n",
    "    <li>A lot of null values, especially for director, cast and country</li>\n",
    "    <li>Rating isn't the popularity, but the suggested audience of a movie/film</li>\n",
    "    <li>Listed In is essntially the genre list</li>\n",
    "    <li>Duration is kept in two different metrics, time for movies and seasons for shows</li>\n",
    "    <li>The movie/show rating feature is very messy</li>\n",
    "</ul>"
   ]
  },
  {
   "cell_type": "markdown",
   "metadata": {},
   "source": [
    "# Preprocessing & Visualization"
   ]
  },
  {
   "cell_type": "markdown",
   "metadata": {},
   "source": [
    "<h3>General</h3>"
   ]
  },
  {
   "cell_type": "markdown",
   "metadata": {},
   "source": [
    "- Dropping Director, Cast, and Country, due to the amoung of null values and how unlikely it is that they will have a significant effect on future models"
   ]
  },
  {
   "cell_type": "code",
   "execution_count": 261,
   "metadata": {},
   "outputs": [],
   "source": [
    "df = df.drop(['director', 'cast', 'country'], axis=1)"
   ]
  },
  {
   "cell_type": "markdown",
   "metadata": {},
   "source": [
    "- Dropping duration column, as two different metrics are used depending on whether the item is a show or a movie. Another solution would be to split the dataset into movies and shows, but we want to be able to recommend either."
   ]
  },
  {
   "cell_type": "code",
   "execution_count": 262,
   "metadata": {},
   "outputs": [],
   "source": [
    "df = df.drop('duration', axis=1)"
   ]
  },
  {
   "cell_type": "markdown",
   "metadata": {},
   "source": [
    "- Dropping date added, since it has little relevance"
   ]
  },
  {
   "cell_type": "code",
   "execution_count": 263,
   "metadata": {},
   "outputs": [],
   "source": [
    "df = df.drop('date_added', axis=1)"
   ]
  },
  {
   "cell_type": "code",
   "execution_count": 264,
   "metadata": {},
   "outputs": [
    {
     "data": {
      "text/plain": [
       "show_id           0\n",
       "type              0\n",
       "title             0\n",
       "release_year      0\n",
       "rating          864\n",
       "listed_in         0\n",
       "description       4\n",
       "netflix           0\n",
       "amazon            0\n",
       "disney            0\n",
       "hulu              0\n",
       "dtype: int64"
      ]
     },
     "execution_count": 264,
     "metadata": {},
     "output_type": "execute_result"
    }
   ],
   "source": [
    "df.isnull().sum()"
   ]
  },
  {
   "cell_type": "markdown",
   "metadata": {},
   "source": [
    "- Renaming two-word column names for ease"
   ]
  },
  {
   "cell_type": "code",
   "execution_count": 265,
   "metadata": {},
   "outputs": [],
   "source": [
    "df = df.rename({'release_year':'year'}, axis=1)\n",
    "df = df.rename({'listed_in':'genre'}, axis=1)\n",
    "df = df.rename({'show_id':'id'}, axis=1)"
   ]
  },
  {
   "cell_type": "code",
   "execution_count": 266,
   "metadata": {},
   "outputs": [
    {
     "data": {
      "text/html": [
       "<div>\n",
       "<style scoped>\n",
       "    .dataframe tbody tr th:only-of-type {\n",
       "        vertical-align: middle;\n",
       "    }\n",
       "\n",
       "    .dataframe tbody tr th {\n",
       "        vertical-align: top;\n",
       "    }\n",
       "\n",
       "    .dataframe thead th {\n",
       "        text-align: right;\n",
       "    }\n",
       "</style>\n",
       "<table border=\"1\" class=\"dataframe\">\n",
       "  <thead>\n",
       "    <tr style=\"text-align: right;\">\n",
       "      <th></th>\n",
       "      <th>id</th>\n",
       "      <th>type</th>\n",
       "      <th>title</th>\n",
       "      <th>year</th>\n",
       "      <th>rating</th>\n",
       "      <th>genre</th>\n",
       "      <th>description</th>\n",
       "      <th>netflix</th>\n",
       "      <th>amazon</th>\n",
       "      <th>disney</th>\n",
       "      <th>hulu</th>\n",
       "    </tr>\n",
       "  </thead>\n",
       "  <tbody>\n",
       "    <tr>\n",
       "      <th>5989</th>\n",
       "      <td>s5990</td>\n",
       "      <td>Movie</td>\n",
       "      <td>13TH: A Conversation with Oprah Winfrey &amp; Ava ...</td>\n",
       "      <td>2017</td>\n",
       "      <td>NaN</td>\n",
       "      <td>Movies</td>\n",
       "      <td>Oprah Winfrey sits down with director Ava DuVe...</td>\n",
       "      <td>1.0</td>\n",
       "      <td>0.0</td>\n",
       "      <td>0.0</td>\n",
       "      <td>0.0</td>\n",
       "    </tr>\n",
       "    <tr>\n",
       "      <th>6827</th>\n",
       "      <td>s6828</td>\n",
       "      <td>TV Show</td>\n",
       "      <td>Gargantia on the Verdurous Planet</td>\n",
       "      <td>2013</td>\n",
       "      <td>NaN</td>\n",
       "      <td>Anime Series, International TV Shows</td>\n",
       "      <td>After falling through a wormhole, a space-dwel...</td>\n",
       "      <td>1.0</td>\n",
       "      <td>0.0</td>\n",
       "      <td>0.0</td>\n",
       "      <td>0.0</td>\n",
       "    </tr>\n",
       "    <tr>\n",
       "      <th>7312</th>\n",
       "      <td>s7313</td>\n",
       "      <td>TV Show</td>\n",
       "      <td>Little Lunch</td>\n",
       "      <td>2015</td>\n",
       "      <td>NaN</td>\n",
       "      <td>Kids' TV, TV Comedies</td>\n",
       "      <td>Adopting a child's perspective, this show take...</td>\n",
       "      <td>1.0</td>\n",
       "      <td>0.0</td>\n",
       "      <td>0.0</td>\n",
       "      <td>0.0</td>\n",
       "    </tr>\n",
       "    <tr>\n",
       "      <th>7537</th>\n",
       "      <td>s7538</td>\n",
       "      <td>Movie</td>\n",
       "      <td>My Honor Was Loyalty</td>\n",
       "      <td>2015</td>\n",
       "      <td>NaN</td>\n",
       "      <td>Dramas</td>\n",
       "      <td>Amid the chaos and horror of World War II, a c...</td>\n",
       "      <td>1.0</td>\n",
       "      <td>0.0</td>\n",
       "      <td>0.0</td>\n",
       "      <td>0.0</td>\n",
       "    </tr>\n",
       "    <tr>\n",
       "      <th>0</th>\n",
       "      <td>s1</td>\n",
       "      <td>Movie</td>\n",
       "      <td>The Grand Seduction</td>\n",
       "      <td>2014</td>\n",
       "      <td>NaN</td>\n",
       "      <td>Comedy, Drama</td>\n",
       "      <td>A small fishing village must procure a local d...</td>\n",
       "      <td>0.0</td>\n",
       "      <td>1.0</td>\n",
       "      <td>0.0</td>\n",
       "      <td>0.0</td>\n",
       "    </tr>\n",
       "    <tr>\n",
       "      <th>...</th>\n",
       "      <td>...</td>\n",
       "      <td>...</td>\n",
       "      <td>...</td>\n",
       "      <td>...</td>\n",
       "      <td>...</td>\n",
       "      <td>...</td>\n",
       "      <td>...</td>\n",
       "      <td>...</td>\n",
       "      <td>...</td>\n",
       "      <td>...</td>\n",
       "      <td>...</td>\n",
       "    </tr>\n",
       "    <tr>\n",
       "      <th>2544</th>\n",
       "      <td>s2545</td>\n",
       "      <td>Movie</td>\n",
       "      <td>28 Hotel Rooms</td>\n",
       "      <td>2013</td>\n",
       "      <td>NaN</td>\n",
       "      <td>Drama</td>\n",
       "      <td>On a business trip a married woman and a novel...</td>\n",
       "      <td>0.0</td>\n",
       "      <td>0.0</td>\n",
       "      <td>0.0</td>\n",
       "      <td>1.0</td>\n",
       "    </tr>\n",
       "    <tr>\n",
       "      <th>2632</th>\n",
       "      <td>s2633</td>\n",
       "      <td>Movie</td>\n",
       "      <td>(Dub) Dragon Age: Dawn of the Seeker</td>\n",
       "      <td>2012</td>\n",
       "      <td>NaN</td>\n",
       "      <td>Anime</td>\n",
       "      <td>A brash young Seeker - Cassandra - is accused ...</td>\n",
       "      <td>0.0</td>\n",
       "      <td>0.0</td>\n",
       "      <td>0.0</td>\n",
       "      <td>1.0</td>\n",
       "    </tr>\n",
       "    <tr>\n",
       "      <th>2697</th>\n",
       "      <td>s2698</td>\n",
       "      <td>TV Show</td>\n",
       "      <td>The Driver</td>\n",
       "      <td>2017</td>\n",
       "      <td>NaN</td>\n",
       "      <td>Documentaries, Lifestyle &amp; Culture</td>\n",
       "      <td>Jeffrey Earnhardt is the grandson of seven-tim...</td>\n",
       "      <td>0.0</td>\n",
       "      <td>0.0</td>\n",
       "      <td>0.0</td>\n",
       "      <td>1.0</td>\n",
       "    </tr>\n",
       "    <tr>\n",
       "      <th>2874</th>\n",
       "      <td>s2875</td>\n",
       "      <td>TV Show</td>\n",
       "      <td>NASA Television Documentaries</td>\n",
       "      <td>2015</td>\n",
       "      <td>NaN</td>\n",
       "      <td>Documentaries, Science &amp; Technology</td>\n",
       "      <td>NASA's Vision: To reach for new heights and re...</td>\n",
       "      <td>0.0</td>\n",
       "      <td>0.0</td>\n",
       "      <td>0.0</td>\n",
       "      <td>1.0</td>\n",
       "    </tr>\n",
       "    <tr>\n",
       "      <th>3027</th>\n",
       "      <td>s3028</td>\n",
       "      <td>TV Show</td>\n",
       "      <td>NASA 360</td>\n",
       "      <td>2010</td>\n",
       "      <td>NaN</td>\n",
       "      <td>Science &amp; Technology</td>\n",
       "      <td>NASA 360 examines how technologies developed b...</td>\n",
       "      <td>0.0</td>\n",
       "      <td>0.0</td>\n",
       "      <td>0.0</td>\n",
       "      <td>1.0</td>\n",
       "    </tr>\n",
       "  </tbody>\n",
       "</table>\n",
       "<p>864 rows × 11 columns</p>\n",
       "</div>"
      ],
      "text/plain": [
       "         id     type                                              title  year  \\\n",
       "5989  s5990    Movie  13TH: A Conversation with Oprah Winfrey & Ava ...  2017   \n",
       "6827  s6828  TV Show                  Gargantia on the Verdurous Planet  2013   \n",
       "7312  s7313  TV Show                                       Little Lunch  2015   \n",
       "7537  s7538    Movie                               My Honor Was Loyalty  2015   \n",
       "0        s1    Movie                                The Grand Seduction  2014   \n",
       "...     ...      ...                                                ...   ...   \n",
       "2544  s2545    Movie                                     28 Hotel Rooms  2013   \n",
       "2632  s2633    Movie               (Dub) Dragon Age: Dawn of the Seeker  2012   \n",
       "2697  s2698  TV Show                                         The Driver  2017   \n",
       "2874  s2875  TV Show                      NASA Television Documentaries  2015   \n",
       "3027  s3028  TV Show                                           NASA 360  2010   \n",
       "\n",
       "     rating                                 genre  \\\n",
       "5989    NaN                                Movies   \n",
       "6827    NaN  Anime Series, International TV Shows   \n",
       "7312    NaN                 Kids' TV, TV Comedies   \n",
       "7537    NaN                                Dramas   \n",
       "0       NaN                         Comedy, Drama   \n",
       "...     ...                                   ...   \n",
       "2544    NaN                                 Drama   \n",
       "2632    NaN                                 Anime   \n",
       "2697    NaN    Documentaries, Lifestyle & Culture   \n",
       "2874    NaN   Documentaries, Science & Technology   \n",
       "3027    NaN                  Science & Technology   \n",
       "\n",
       "                                            description  netflix  amazon  \\\n",
       "5989  Oprah Winfrey sits down with director Ava DuVe...      1.0     0.0   \n",
       "6827  After falling through a wormhole, a space-dwel...      1.0     0.0   \n",
       "7312  Adopting a child's perspective, this show take...      1.0     0.0   \n",
       "7537  Amid the chaos and horror of World War II, a c...      1.0     0.0   \n",
       "0     A small fishing village must procure a local d...      0.0     1.0   \n",
       "...                                                 ...      ...     ...   \n",
       "2544  On a business trip a married woman and a novel...      0.0     0.0   \n",
       "2632  A brash young Seeker - Cassandra - is accused ...      0.0     0.0   \n",
       "2697  Jeffrey Earnhardt is the grandson of seven-tim...      0.0     0.0   \n",
       "2874  NASA's Vision: To reach for new heights and re...      0.0     0.0   \n",
       "3027  NASA 360 examines how technologies developed b...      0.0     0.0   \n",
       "\n",
       "      disney  hulu  \n",
       "5989     0.0   0.0  \n",
       "6827     0.0   0.0  \n",
       "7312     0.0   0.0  \n",
       "7537     0.0   0.0  \n",
       "0        0.0   0.0  \n",
       "...      ...   ...  \n",
       "2544     0.0   1.0  \n",
       "2632     0.0   1.0  \n",
       "2697     0.0   1.0  \n",
       "2874     0.0   1.0  \n",
       "3027     0.0   1.0  \n",
       "\n",
       "[864 rows x 11 columns]"
      ]
     },
     "execution_count": 266,
     "metadata": {},
     "output_type": "execute_result"
    }
   ],
   "source": [
    "df[df['rating'].isnull()]"
   ]
  },
  {
   "cell_type": "markdown",
   "metadata": {},
   "source": [
    "There is a substantian amount of rows with no rating. Along with this there are rows with unrated movies as well. Since rating is an important feature when recommending shows, we cannot get rid of the column. Because the the data in these rows is filled other than their rating, we will continue with the null rows"
   ]
  },
  {
   "cell_type": "markdown",
   "metadata": {},
   "source": [
    "<h3>RS Processing</h3>"
   ]
  },
  {
   "cell_type": "markdown",
   "metadata": {},
   "source": [
    "- One hot encoding the features, preparing dataframe for recommendation system"
   ]
  },
  {
   "cell_type": "markdown",
   "metadata": {},
   "source": [
    "Different from our first iteration, we are going to use rating and type as well"
   ]
  },
  {
   "cell_type": "code",
   "execution_count": 267,
   "metadata": {},
   "outputs": [],
   "source": [
    "df_enc = df.copy()"
   ]
  },
  {
   "cell_type": "markdown",
   "metadata": {},
   "source": [
    "<h4>First, the ratings</h4>"
   ]
  },
  {
   "cell_type": "code",
   "execution_count": 268,
   "metadata": {},
   "outputs": [],
   "source": [
    "rating_enc = pd.get_dummies(df['rating'], prefix='Rated ')"
   ]
  },
  {
   "cell_type": "code",
   "execution_count": 269,
   "metadata": {},
   "outputs": [],
   "source": [
    "rating_enc.columns = rating_enc.columns.str.replace('_', '')"
   ]
  },
  {
   "cell_type": "code",
   "execution_count": 270,
   "metadata": {},
   "outputs": [
    {
     "data": {
      "text/plain": [
       "Index(['Rated 1 Season', 'Rated 100 min', 'Rated 101 min', 'Rated 102 min',\n",
       "       'Rated 103 min', 'Rated 104 min', 'Rated 105 min', 'Rated 106 min',\n",
       "       'Rated 107 min', 'Rated 108 min',\n",
       "       ...\n",
       "       'Rated TV-14', 'Rated TV-G', 'Rated TV-MA', 'Rated TV-NR',\n",
       "       'Rated TV-PG', 'Rated TV-Y', 'Rated TV-Y7', 'Rated TV-Y7-FV',\n",
       "       'Rated UNRATED', 'Rated UR'],\n",
       "      dtype='object', length=105)"
      ]
     },
     "execution_count": 270,
     "metadata": {},
     "output_type": "execute_result"
    }
   ],
   "source": [
    "rating_enc.columns"
   ]
  },
  {
   "cell_type": "markdown",
   "metadata": {},
   "source": [
    "First, we drop any ratings that aren't actually ratings (66 min, 1 season, etc.)"
   ]
  },
  {
   "cell_type": "code",
   "execution_count": 271,
   "metadata": {},
   "outputs": [],
   "source": [
    "rating_enc = rating_enc.drop(['Rated 1 Season', 'Rated 100 min', 'Rated 101 min', 'Rated 102 min',\n",
    "       'Rated 103 min', 'Rated 104 min', 'Rated 105 min', 'Rated 106 min',\n",
    "       'Rated 107 min', 'Rated 108 min', 'Rated 109 min', 'Rated 110 min', 'Rated 111 min', 'Rated 112 min',\n",
    "       'Rated 114 min', 'Rated 115 min', 'Rated 116 min', 'Rated 118 min',\n",
    "       'Rated 119 min', 'Rated 12 Seasons', 'Rated 121 min', 'Rated 127 min',\n",
    "       'Rated 129 min', 'Rated 130 min', 'Rated 136 min',\n",
    "       'Rated 142 min', 'Rated 157 min', 'Rated 2 Seasons',\n",
    "       'Rated 28 min', 'Rated 3 Seasons', 'Rated 34 min', 'Rated 36 min',\n",
    "       'Rated 37 min', 'Rated 39 min', 'Rated 4 Seasons', 'Rated 40 min',\n",
    "       'Rated 41 min', 'Rated 45 min', 'Rated 47 min', 'Rated 49 min',\n",
    "       'Rated 5 min', 'Rated 57 min', 'Rated 6 Seasons', 'Rated 6 min',\n",
    "       'Rated 61 min', 'Rated 64 min', 'Rated 65 min', 'Rated 66 min',\n",
    "       'Rated 67 min', 'Rated 7 min', 'Rated 7+', 'Rated 71 min',\n",
    "       'Rated 73 min', 'Rated 74 min', 'Rated 75 min', 'Rated 76 min',\n",
    "       'Rated 77 min', 'Rated 78 min', 'Rated 79 min', 'Rated 80 min',\n",
    "       'Rated 81 min', 'Rated 82 min', 'Rated 83 min', 'Rated 84 min',\n",
    "       'Rated 85 min', 'Rated 86 min', 'Rated 87 min', 'Rated 88 min',\n",
    "       'Rated 89 min', 'Rated 90 min', 'Rated 91 min', 'Rated 92 min',\n",
    "       'Rated 93 min', 'Rated 94 min', 'Rated 95 min', 'Rated 96 min',\n",
    "       'Rated 97 min', 'Rated 98 min', 'Rated 99 min'], axis=1)"
   ]
  },
  {
   "cell_type": "markdown",
   "metadata": {},
   "source": [
    "Dropping the unrated rows, since they don't tell us anything about the show/movie"
   ]
  },
  {
   "cell_type": "code",
   "execution_count": 272,
   "metadata": {},
   "outputs": [],
   "source": [
    "rating_enc = rating_enc.drop(['Rated NR','Rated UR','Rated NOT RATED','Rated NOTRATE','Rated UNRATED','Rated TV-NR'], axis=1)"
   ]
  },
  {
   "cell_type": "markdown",
   "metadata": {},
   "source": [
    "Merging ratings that convey the same information (ex/ rating 16, 16+, and AGES_16_)"
   ]
  },
  {
   "cell_type": "code",
   "execution_count": 273,
   "metadata": {},
   "outputs": [],
   "source": [
    "rating_enc.loc[rating_enc['Rated 16'] == 1, 'Rated 16+'] = 1\n",
    "rating_enc.loc[rating_enc['Rated AGES16'] == 1, 'Rated 16'] = 1\n",
    "rating_enc = rating_enc.drop(['Rated 16','Rated AGES16'], axis=1)"
   ]
  },
  {
   "cell_type": "code",
   "execution_count": 274,
   "metadata": {},
   "outputs": [],
   "source": [
    "rating_enc.loc[rating_enc['Rated AGES18'] == 1, 'Rated 18+'] = 1\n",
    "rating_enc = rating_enc.drop('Rated AGES18', axis=1)"
   ]
  },
  {
   "cell_type": "code",
   "execution_count": 275,
   "metadata": {},
   "outputs": [],
   "source": [
    "rating_enc.loc[rating_enc['Rated ALL'] == 1, 'Rated G'] = 1\n",
    "rating_enc.loc[rating_enc['Rated ALLAGES'] == 1, 'Rated G'] = 1\n",
    "rating_enc = rating_enc.drop(['Rated ALL','Rated ALLAGES'], axis=1)"
   ]
  },
  {
   "cell_type": "code",
   "execution_count": 276,
   "metadata": {},
   "outputs": [
    {
     "data": {
      "text/plain": [
       "Index(['Rated 13+', 'Rated 16+', 'Rated 18+', 'Rated G', 'Rated NC-17',\n",
       "       'Rated PG', 'Rated PG-13', 'Rated R', 'Rated TV-14', 'Rated TV-G',\n",
       "       'Rated TV-MA', 'Rated TV-PG', 'Rated TV-Y', 'Rated TV-Y7',\n",
       "       'Rated TV-Y7-FV'],\n",
       "      dtype='object')"
      ]
     },
     "execution_count": 276,
     "metadata": {},
     "output_type": "execute_result"
    }
   ],
   "source": [
    "rating_enc.columns"
   ]
  },
  {
   "cell_type": "markdown",
   "metadata": {},
   "source": [
    "<h4>Next, the type</h4>"
   ]
  },
  {
   "cell_type": "code",
   "execution_count": 277,
   "metadata": {},
   "outputs": [],
   "source": [
    "type_enc = pd.get_dummies(df['type'], prefix='type')"
   ]
  },
  {
   "cell_type": "code",
   "execution_count": 278,
   "metadata": {},
   "outputs": [
    {
     "data": {
      "text/plain": [
       "Index(['type_Movie', 'type_TV Show'], dtype='object')"
      ]
     },
     "execution_count": 278,
     "metadata": {},
     "output_type": "execute_result"
    }
   ],
   "source": [
    "type_enc.columns"
   ]
  },
  {
   "cell_type": "code",
   "execution_count": 279,
   "metadata": {},
   "outputs": [],
   "source": [
    "type_enc = type_enc.rename({'type_Movie':'Movie',\n",
    "                            'type_TV Show':'Show'}, axis=1)"
   ]
  },
  {
   "cell_type": "markdown",
   "metadata": {},
   "source": [
    "<h4>Lastly, the genre of the movie/show</h4>"
   ]
  },
  {
   "cell_type": "code",
   "execution_count": 280,
   "metadata": {},
   "outputs": [],
   "source": [
    "genre_enc = df.filter('genre')\n",
    "# genre_enc = genre_enc.join(pd.concat([genre_enc['genre'].str.get_dummies(sep=',')])).drop('genre', axis=1)"
   ]
  },
  {
   "cell_type": "code",
   "execution_count": 281,
   "metadata": {},
   "outputs": [],
   "source": [
    "genre_enc = df['genre'].str.replace(' ', '').str.get_dummies(sep=',')"
   ]
  },
  {
   "cell_type": "code",
   "execution_count": 282,
   "metadata": {},
   "outputs": [
    {
     "data": {
      "text/plain": [
       "(22998, 120)"
      ]
     },
     "execution_count": 282,
     "metadata": {},
     "output_type": "execute_result"
    }
   ],
   "source": [
    "genre_enc.shape"
   ]
  },
  {
   "cell_type": "code",
   "execution_count": 283,
   "metadata": {},
   "outputs": [
    {
     "data": {
      "text/plain": [
       "(22998, 11)"
      ]
     },
     "execution_count": 283,
     "metadata": {},
     "output_type": "execute_result"
    }
   ],
   "source": [
    "df.shape"
   ]
  },
  {
   "cell_type": "code",
   "execution_count": 284,
   "metadata": {},
   "outputs": [
    {
     "data": {
      "text/plain": [
       "['Action',\n",
       " 'Action&Adventure',\n",
       " 'Action-Adventure',\n",
       " 'AdultAnimation',\n",
       " 'Adventure',\n",
       " 'Animals&Nature',\n",
       " 'Animation',\n",
       " 'Anime',\n",
       " 'AnimeFeatures',\n",
       " 'AnimeSeries',\n",
       " 'Anthology',\n",
       " 'Arthouse',\n",
       " 'Arts',\n",
       " 'Biographical',\n",
       " 'BlackStories',\n",
       " 'BritishTVShows',\n",
       " 'Buddy',\n",
       " 'Cartoons',\n",
       " 'Children&FamilyMovies',\n",
       " 'Classic&CultTV',\n",
       " 'ClassicMovies',\n",
       " 'Classics',\n",
       " 'Comedies',\n",
       " 'Comedy',\n",
       " 'ComingofAge',\n",
       " 'ConcertFilm',\n",
       " 'Cooking&Food',\n",
       " 'Crime',\n",
       " 'CrimeTVShows',\n",
       " 'CultMovies',\n",
       " 'Dance',\n",
       " 'Disaster',\n",
       " 'Documentaries',\n",
       " 'Documentary',\n",
       " 'Docuseries',\n",
       " 'Drama',\n",
       " 'Dramas',\n",
       " 'Entertainment',\n",
       " 'Faith&Spirituality',\n",
       " 'FaithandSpirituality',\n",
       " 'Family',\n",
       " 'Fantasy',\n",
       " 'Fitness',\n",
       " 'GameShow/Competition',\n",
       " 'GameShows',\n",
       " 'Health&Wellness',\n",
       " 'Historical',\n",
       " 'History',\n",
       " 'Horror',\n",
       " 'HorrorMovies',\n",
       " 'IndependentMovies',\n",
       " 'International',\n",
       " 'InternationalMovies',\n",
       " 'InternationalTVShows',\n",
       " 'Kids',\n",
       " \"Kids'TV\",\n",
       " 'KoreanTVShows',\n",
       " 'LGBTQ',\n",
       " 'LGBTQ+',\n",
       " 'LGBTQMovies',\n",
       " 'LateNight',\n",
       " 'Latino',\n",
       " 'Lifestyle',\n",
       " 'Lifestyle&Culture',\n",
       " 'Medical',\n",
       " 'MilitaryandWar',\n",
       " 'Movies',\n",
       " 'Music',\n",
       " 'Music&Musicals',\n",
       " 'MusicVideosandConcerts',\n",
       " 'Musical',\n",
       " 'Mystery',\n",
       " 'News',\n",
       " 'Parody',\n",
       " 'Police/Cop',\n",
       " 'Reality',\n",
       " 'RealityTV',\n",
       " 'Romance',\n",
       " 'RomanticComedy',\n",
       " 'RomanticMovies',\n",
       " 'RomanticTVShows',\n",
       " 'Sci-Fi&Fantasy',\n",
       " 'Science&NatureTV',\n",
       " 'Science&Technology',\n",
       " 'ScienceFiction',\n",
       " 'Series',\n",
       " 'Sitcom',\n",
       " 'SketchComedy',\n",
       " 'SoapOpera/Melodrama',\n",
       " 'Spanish-LanguageTVShows',\n",
       " 'SpecialInterest',\n",
       " 'Sports',\n",
       " 'SportsMovies',\n",
       " 'Spy/Espionage',\n",
       " 'Stand-UpComedy',\n",
       " 'Stand-UpComedy&TalkShows',\n",
       " 'StandUp',\n",
       " 'Superhero',\n",
       " 'Survival',\n",
       " 'Suspense',\n",
       " 'TVAction&Adventure',\n",
       " 'TVComedies',\n",
       " 'TVDramas',\n",
       " 'TVHorror',\n",
       " 'TVMysteries',\n",
       " 'TVSci-Fi&Fantasy',\n",
       " 'TVShows',\n",
       " 'TVThrillers',\n",
       " 'TalkShow',\n",
       " 'TalkShowandVariety',\n",
       " 'Teen',\n",
       " 'TeenTVShows',\n",
       " 'Thriller',\n",
       " 'Thrillers',\n",
       " 'Travel',\n",
       " 'Unscripted',\n",
       " 'Variety',\n",
       " 'Western',\n",
       " 'YoungAdultAudience',\n",
       " 'andCulture']"
      ]
     },
     "execution_count": 284,
     "metadata": {},
     "output_type": "execute_result"
    }
   ],
   "source": [
    "list(genre_enc.columns)"
   ]
  },
  {
   "cell_type": "markdown",
   "metadata": {},
   "source": [
    "A lot of things to fix here, so I will go alphabetically throught the list to do the following:\n",
    "- Noticing a lot of redundancy between categories, especially to split movies and shows. I can merge these columns\n",
    "- Rename any features so that they read better in an output"
   ]
  },
  {
   "cell_type": "code",
   "execution_count": 285,
   "metadata": {},
   "outputs": [],
   "source": [
    "#Turning postitives in action&adventure categories into positives in the respective action and adventure categories\n",
    "genre_enc.loc[genre_enc['Action-Adventure'] == 1, 'Action'] = 1\n",
    "genre_enc.loc[genre_enc['Action-Adventure'] == 1, 'Adventure'] = 1\n",
    "\n",
    "\n",
    "genre_enc.loc[genre_enc['Action&Adventure'] == 1, 'Action'] = 1\n",
    "genre_enc.loc[genre_enc['Action&Adventure'] == 1, 'Adventure'] = 1\n",
    "\n",
    "genre_enc = genre_enc.drop(['Action-Adventure','Action&Adventure'], axis=1)"
   ]
  },
  {
   "cell_type": "code",
   "execution_count": 286,
   "metadata": {},
   "outputs": [],
   "source": [
    "genre_enc = genre_enc.rename({'AdultAnimation':'Adult Animation'}, axis=1)"
   ]
  },
  {
   "cell_type": "code",
   "execution_count": 287,
   "metadata": {},
   "outputs": [],
   "source": [
    "genre_enc = genre_enc.rename({'Animals&Nature':'Animals & Nature'}, axis=1)"
   ]
  },
  {
   "cell_type": "raw",
   "metadata": {},
   "source": [
    "# Positives in Adult Animation also count towards Animation.\n",
    "# Worries about recommending the wrong rating should be handled by that feature\n",
    "genre_enc.loc[genre_enc['Adult Animation'] == 1, 'Animation'] = 1"
   ]
  },
  {
   "cell_type": "code",
   "execution_count": 288,
   "metadata": {},
   "outputs": [],
   "source": [
    "# There are so many anime features, I will merge them\n",
    "\n",
    "genre_enc.loc[genre_enc['AnimeFeatures'] == 1, 'Anime'] = 1\n",
    "genre_enc.loc[genre_enc['AnimeSeries'] == 1, 'Anime'] = 1\n",
    "\n",
    "\n",
    "genre_enc = genre_enc.drop(['AnimeSeries','AnimeFeatures'], axis=1)"
   ]
  },
  {
   "cell_type": "raw",
   "metadata": {},
   "source": [
    "# Positives in Anime also count towards Animation.\n",
    "genre_enc.loc[genre_enc['Anime'] == 1, 'Animation'] = 1"
   ]
  },
  {
   "cell_type": "code",
   "execution_count": 289,
   "metadata": {},
   "outputs": [],
   "source": [
    "genre_enc = genre_enc.rename({'BlackStories':'Black Stories'}, axis=1)"
   ]
  },
  {
   "cell_type": "code",
   "execution_count": 290,
   "metadata": {},
   "outputs": [],
   "source": [
    "genre_enc = genre_enc.rename({'BritishTVShows':'British'}, axis=1)"
   ]
  },
  {
   "cell_type": "raw",
   "metadata": {},
   "source": [
    "# Positives in Anime also count towards Animation. Not merging as cartoons has a different connotation\n",
    "genre_enc.loc[genre_enc['Cartoons'] == 1, 'Animation'] = 1"
   ]
  },
  {
   "cell_type": "code",
   "execution_count": 291,
   "metadata": {},
   "outputs": [],
   "source": [
    "genre_enc = genre_enc.rename({'Children&FamilyMovies':'Family'}, axis=1)"
   ]
  },
  {
   "cell_type": "code",
   "execution_count": 292,
   "metadata": {},
   "outputs": [],
   "source": [
    "#Merging classic/cult into classics feature\n",
    "genre_enc.loc[genre_enc['Classic&CultTV'] == 1, 'Classics'] = 1\n",
    "genre_enc.loc[genre_enc['ClassicMovies'] == 1, 'Classics'] = 1\n",
    "\n",
    "genre_enc = genre_enc.drop(['Classic&CultTV','ClassicMovies'], axis=1)"
   ]
  },
  {
   "cell_type": "code",
   "execution_count": 293,
   "metadata": {},
   "outputs": [],
   "source": [
    "genre_enc = genre_enc.rename({'ComingofAge':'Coming of Age'}, axis=1)"
   ]
  },
  {
   "cell_type": "code",
   "execution_count": 294,
   "metadata": {},
   "outputs": [],
   "source": [
    "genre_enc = genre_enc.rename({'ConcertFilm':'Concert'}, axis=1)"
   ]
  },
  {
   "cell_type": "code",
   "execution_count": 295,
   "metadata": {},
   "outputs": [],
   "source": [
    "genre_enc = genre_enc.rename({'Cooking&Food':'Cooking'}, axis=1)"
   ]
  },
  {
   "cell_type": "code",
   "execution_count": 296,
   "metadata": {},
   "outputs": [],
   "source": [
    "#Merging CrimeTV with Crime\n",
    "genre_enc.loc[genre_enc['CrimeTVShows'] == 1, 'Crime'] = 1\n",
    "genre_enc = genre_enc.drop(['CrimeTVShows'], axis=1)"
   ]
  },
  {
   "cell_type": "code",
   "execution_count": 297,
   "metadata": {},
   "outputs": [],
   "source": [
    "genre_enc = genre_enc.rename({'CultMovies':'Cult'}, axis=1)"
   ]
  },
  {
   "cell_type": "code",
   "execution_count": 298,
   "metadata": {},
   "outputs": [],
   "source": [
    "# Merging all of the documentary features\n",
    "genre_enc.loc[genre_enc['Documentaries'] == 1, 'Documentary'] = 1\n",
    "genre_enc.loc[genre_enc['Docuseries'] == 1, 'Documentary'] = 1\n",
    "\n",
    "genre_enc = genre_enc.drop(['Documentaries','Docuseries'], axis=1)"
   ]
  },
  {
   "cell_type": "code",
   "execution_count": 299,
   "metadata": {},
   "outputs": [],
   "source": [
    "# Merging Drama with Dramas\n",
    "genre_enc.loc[genre_enc['Dramas'] == 1, 'Drama'] = 1\n",
    "genre_enc = genre_enc.drop(['Dramas'], axis=1)"
   ]
  },
  {
   "cell_type": "code",
   "execution_count": 300,
   "metadata": {},
   "outputs": [],
   "source": [
    "# Merging Fairth&SPirituality features into one called faith\n",
    "genre_enc = genre_enc.rename({'Faith&Spirituality':'Faith'}, axis=1)\n",
    "\n",
    "genre_enc.loc[genre_enc['FaithandSpirituality'] == 1, 'FaithandSpirituality'] = 1\n",
    "\n",
    "genre_enc = genre_enc.drop('FaithandSpirituality', axis=1)"
   ]
  },
  {
   "cell_type": "code",
   "execution_count": 301,
   "metadata": {},
   "outputs": [],
   "source": [
    "# Merging gameshow features into one called Game Show\n",
    "genre_enc = genre_enc.rename({'GameShow/Competition':'Game Show'}, axis=1)\n",
    "\n",
    "genre_enc.loc[genre_enc['GameShows'] == 1, 'Game Show'] = 1\n",
    "\n",
    "genre_enc = genre_enc.drop('GameShows', axis=1)"
   ]
  },
  {
   "cell_type": "code",
   "execution_count": 302,
   "metadata": {},
   "outputs": [],
   "source": [
    "genre_enc = genre_enc.rename({'Health&Wellness':'Health'}, axis=1)"
   ]
  },
  {
   "cell_type": "code",
   "execution_count": 303,
   "metadata": {},
   "outputs": [],
   "source": [
    "# Merging historical and history\n",
    "genre_enc.loc[genre_enc['Historical'] == 1, 'History'] = 1\n",
    "\n",
    "genre_enc = genre_enc.drop('Historical', axis=1)"
   ]
  },
  {
   "cell_type": "code",
   "execution_count": 304,
   "metadata": {},
   "outputs": [],
   "source": [
    "# Merging horrors\n",
    "genre_enc.loc[genre_enc['HorrorMovies'] == 1, 'Horror'] = 1\n",
    "\n",
    "genre_enc = genre_enc.drop('HorrorMovies', axis=1)"
   ]
  },
  {
   "cell_type": "code",
   "execution_count": 305,
   "metadata": {},
   "outputs": [],
   "source": [
    "genre_enc = genre_enc.rename({'IndependentMovies':'Independent'}, axis=1)"
   ]
  },
  {
   "cell_type": "code",
   "execution_count": 306,
   "metadata": {},
   "outputs": [],
   "source": [
    "# Merging all of the international features\n",
    "genre_enc.loc[genre_enc['InternationalMovies'] == 1, 'International'] = 1\n",
    "genre_enc.loc[genre_enc['InternationalTVShows'] == 1, 'International'] = 1\n",
    "\n",
    "genre_enc = genre_enc.drop(['InternationalMovies','InternationalTVShows'], axis=1)"
   ]
  },
  {
   "cell_type": "code",
   "execution_count": 307,
   "metadata": {},
   "outputs": [],
   "source": [
    "# Merging kids features\n",
    "genre_enc.loc[genre_enc[\"Kids'TV\"] == 1, 'Kids'] = 1\n",
    "\n",
    "genre_enc = genre_enc.drop(\"Kids'TV\", axis=1)"
   ]
  },
  {
   "cell_type": "code",
   "execution_count": 308,
   "metadata": {},
   "outputs": [],
   "source": [
    "# Merging all LGBTQ features\n",
    "genre_enc.loc[genre_enc['LGBTQ'] == 1, 'LGBTQ+'] = 1\n",
    "genre_enc.loc[genre_enc['LGBTQMovies'] == 1, 'LGBTQ+'] = 1\n",
    "\n",
    "genre_enc = genre_enc.drop(['LGBTQ','LGBTQMovies'], axis=1)"
   ]
  },
  {
   "cell_type": "code",
   "execution_count": 309,
   "metadata": {},
   "outputs": [],
   "source": [
    "genre_enc = genre_enc.rename({'LateNight':'Late Night'}, axis=1)"
   ]
  },
  {
   "cell_type": "code",
   "execution_count": 310,
   "metadata": {},
   "outputs": [],
   "source": [
    "# Merging lifestyle features\n",
    "genre_enc.loc[genre_enc['Lifestyle&Culture'] == 1, 'Lifestyle'] = 1\n",
    "\n",
    "genre_enc = genre_enc.drop('Lifestyle&Culture', axis=1)"
   ]
  },
  {
   "cell_type": "code",
   "execution_count": 311,
   "metadata": {},
   "outputs": [],
   "source": [
    "genre_enc = genre_enc.rename({'MilitaryandWar':'Military & War'}, axis=1)"
   ]
  },
  {
   "cell_type": "code",
   "execution_count": 312,
   "metadata": {},
   "outputs": [],
   "source": [
    "# Dropping Movies, its redundant when we have a type feature\n",
    "genre_enc = genre_enc.drop(['Movies'], axis=1)"
   ]
  },
  {
   "cell_type": "code",
   "execution_count": 313,
   "metadata": {},
   "outputs": [],
   "source": [
    "# Merging feautres into music\n",
    "genre_enc.loc[genre_enc['Concert'] == 1, 'Music'] = 1\n",
    "genre_enc.loc[genre_enc['MusicVideosandConcerts'] == 1, 'Music'] = 1\n",
    "\n",
    "genre_enc = genre_enc.drop(['Concert','MusicVideosandConcerts'], axis=1)"
   ]
  },
  {
   "cell_type": "code",
   "execution_count": 314,
   "metadata": {},
   "outputs": [],
   "source": [
    "# Mering feautres into musical\n",
    "genre_enc.loc[genre_enc['Music&Musicals'] == 1, 'Musical'] = 1\n",
    "\n",
    "genre_enc = genre_enc.drop('Music&Musicals', axis=1)"
   ]
  },
  {
   "cell_type": "code",
   "execution_count": 315,
   "metadata": {},
   "outputs": [],
   "source": [
    "# Merging Police/Cop into Crime\n",
    "genre_enc.loc[genre_enc['Police/Cop'] == 1, 'Crime'] = 1\n",
    "\n",
    "genre_enc = genre_enc.drop(['Police/Cop'], axis=1)"
   ]
  },
  {
   "cell_type": "code",
   "execution_count": 316,
   "metadata": {},
   "outputs": [],
   "source": [
    "# Merging reality\n",
    "genre_enc.loc[genre_enc['RealityTV'] == 1, 'Reality'] = 1\n",
    "\n",
    "genre_enc = genre_enc.drop(['RealityTV'], axis=1)"
   ]
  },
  {
   "cell_type": "code",
   "execution_count": 317,
   "metadata": {},
   "outputs": [],
   "source": [
    "# Merging romances, and adding romcoms to comedy\n",
    "genre_enc.loc[genre_enc['RomanticComedy'] == 1, 'Comedy'] = 1\n",
    "\n",
    "genre_enc.loc[genre_enc['RomanticComedy'] == 1, 'Romance'] = 1\n",
    "genre_enc.loc[genre_enc['RomanticMovies'] == 1, 'Romance'] = 1\n",
    "genre_enc.loc[genre_enc['RomanticTVShows'] == 1, 'Romance'] = 1\n",
    "\n",
    "genre_enc = genre_enc.drop(['RomanticComedy','RomanticMovies','RomanticTVShows'], axis=1)"
   ]
  },
  {
   "cell_type": "code",
   "execution_count": 318,
   "metadata": {},
   "outputs": [],
   "source": [
    "genre_enc = genre_enc.rename({'Sci-Fi&Fantasy':'Sci-Fi & Fantasy'}, axis=1)"
   ]
  },
  {
   "cell_type": "code",
   "execution_count": 319,
   "metadata": {},
   "outputs": [],
   "source": [
    "# Adding Animals to Nature category\n",
    "genre_enc = genre_enc.rename({'Science&NatureTV':'Nature'}, axis=1)\n",
    "\n",
    "genre_enc.loc[genre_enc['Animals & Nature'] == 1, 'Nature'] = 1"
   ]
  },
  {
   "cell_type": "code",
   "execution_count": 320,
   "metadata": {},
   "outputs": [],
   "source": [
    "# Renamings to Sci-Fi and adding movies in this category to the Sci-Fi and Fantasy category\n",
    "genre_enc = genre_enc.rename({'ScienceFiction':'Sci-Fi'}, axis=1)"
   ]
  },
  {
   "cell_type": "code",
   "execution_count": 321,
   "metadata": {},
   "outputs": [],
   "source": [
    "# Dropping redundant feature Series\n",
    "genre_enc = genre_enc.drop(['Series'], axis=1)"
   ]
  },
  {
   "cell_type": "code",
   "execution_count": 322,
   "metadata": {},
   "outputs": [],
   "source": [
    "# Adding sketch comedy movies/shows to comedy category\n",
    "genre_enc.loc[genre_enc['SketchComedy'] == 1, 'Comedy'] = 1"
   ]
  },
  {
   "cell_type": "code",
   "execution_count": 323,
   "metadata": {},
   "outputs": [],
   "source": [
    "# Adding SoapOpera/Melodrama to Drama\n",
    "genre_enc.loc[genre_enc['SoapOpera/Melodrama'] == 1, 'Drama'] = 1"
   ]
  },
  {
   "cell_type": "code",
   "execution_count": 324,
   "metadata": {},
   "outputs": [],
   "source": [
    "genre_enc = genre_enc.rename({'Spanish-LanguageTVShows':'Spanish'}, axis=1)"
   ]
  },
  {
   "cell_type": "code",
   "execution_count": 325,
   "metadata": {},
   "outputs": [],
   "source": [
    "genre_enc = genre_enc.rename({'SpecialInterest':'Special Interest'}, axis=1)"
   ]
  },
  {
   "cell_type": "code",
   "execution_count": 326,
   "metadata": {},
   "outputs": [],
   "source": [
    "# Merging Sports\n",
    "genre_enc.loc[genre_enc['SportsMovies'] == 1, 'Sports'] = 1\n",
    "\n",
    "genre_enc = genre_enc.drop(['SportsMovies'], axis=1)"
   ]
  },
  {
   "cell_type": "code",
   "execution_count": 327,
   "metadata": {},
   "outputs": [],
   "source": [
    "genre_enc = genre_enc.rename({'Spy/Espionage':'Spy'}, axis=1)"
   ]
  },
  {
   "cell_type": "code",
   "execution_count": 328,
   "metadata": {},
   "outputs": [],
   "source": [
    "# Merging STandup and adding these to the comedy category\n",
    "genre_enc = genre_enc.rename({'StandUp':'Stand Up'}, axis=1)\n",
    "\n",
    "genre_enc.loc[genre_enc['Stand-UpComedy'] == 1, 'Stand Up'] = 1\n",
    "genre_enc.loc[genre_enc['Stand-UpComedy&TalkShows'] == 1, 'Stand Up'] = 1\n",
    "\n",
    "genre_enc.loc[genre_enc['Stand Up'] == 1, 'Comedy'] = 1\n",
    "\n",
    "genre_enc = genre_enc.drop(['Stand-UpComedy'], axis=1)"
   ]
  },
  {
   "cell_type": "code",
   "execution_count": 329,
   "metadata": {},
   "outputs": [],
   "source": [
    "# Putting all TV cattegories into respective other categories\n",
    "genre_enc.loc[genre_enc['TVAction&Adventure'] == 1, 'Action'] = 1\n",
    "genre_enc.loc[genre_enc['TVAction&Adventure'] == 1, 'Adventure'] = 1\n",
    "genre_enc = genre_enc.drop('TVAction&Adventure', axis=1)\n",
    "\n",
    "genre_enc.loc[genre_enc['TVComedies'] == 1, 'Comedy'] = 1\n",
    "genre_enc = genre_enc.drop('TVComedies', axis=1)\n",
    "\n",
    "genre_enc.loc[genre_enc['TVDramas'] == 1, 'Drama'] = 1\n",
    "genre_enc = genre_enc.drop('TVDramas', axis=1)\n",
    "\n",
    "genre_enc.loc[genre_enc['TVHorror'] == 1, 'Horror'] = 1\n",
    "genre_enc = genre_enc.drop('TVHorror', axis=1)\n",
    "\n",
    "genre_enc.loc[genre_enc['TVMysteries'] == 1, 'Mystery'] = 1\n",
    "genre_enc = genre_enc.drop('TVMysteries', axis=1)\n",
    "\n",
    "genre_enc.loc[genre_enc['TVSci-Fi&Fantasy'] == 1, 'Sci-Fi & Fantasy'] = 1\n",
    "genre_enc = genre_enc.drop('TVSci-Fi&Fantasy', axis=1)\n",
    "\n",
    "genre_enc.loc[genre_enc['TVThrillers'] == 1, 'Thriller'] = 1\n",
    "genre_enc = genre_enc.drop('TVThrillers', axis=1)\n",
    "\n",
    "genre_enc.loc[genre_enc['TeenTVShows'] == 1, 'Teen'] = 1\n",
    "genre_enc = genre_enc.drop('TeenTVShows', axis=1)"
   ]
  },
  {
   "cell_type": "code",
   "execution_count": 330,
   "metadata": {},
   "outputs": [],
   "source": [
    "# Dropping redundant TV feature\n",
    "genre_enc = genre_enc.drop(['TVShows'], axis=1)"
   ]
  },
  {
   "cell_type": "code",
   "execution_count": 331,
   "metadata": {},
   "outputs": [],
   "source": [
    "# Merging everything talk show\n",
    "genre_enc = genre_enc.rename({'TalkShow':'Talk Show'}, axis=1)\n",
    "\n",
    "genre_enc.loc[genre_enc['Late Night'] == 1, 'Talk Show'] = 1\n",
    "genre_enc.loc[genre_enc['TalkShowandVariety'] == 1, 'Talk Show'] = 1\n",
    "genre_enc.loc[genre_enc['Stand-UpComedy&TalkShows'] == 1, 'Talk Show'] = 1\n",
    "\n",
    "genre_enc = genre_enc.drop(['Late Night','TalkShowandVariety','Stand-UpComedy&TalkShows'], axis=1)"
   ]
  },
  {
   "cell_type": "code",
   "execution_count": 332,
   "metadata": {},
   "outputs": [],
   "source": [
    "# Merging Thriller\n",
    "genre_enc.loc[genre_enc['Thrillers'] == 1, 'Thriller'] = 1\n",
    "\n",
    "genre_enc = genre_enc.drop('Thrillers', axis=1)"
   ]
  },
  {
   "cell_type": "code",
   "execution_count": 333,
   "metadata": {},
   "outputs": [],
   "source": [
    "genre_enc = genre_enc.rename({'YoungAdultAudience':'Young Adult'}, axis=1)"
   ]
  },
  {
   "cell_type": "code",
   "execution_count": 334,
   "metadata": {},
   "outputs": [],
   "source": [
    "# Merging this with earlier lifestyle feature\n",
    "genre_enc.loc[genre_enc['andCulture'] == 1, 'Lifestyle'] = 1\n",
    "\n",
    "genre_enc = genre_enc.drop('andCulture', axis=1)"
   ]
  },
  {
   "cell_type": "code",
   "execution_count": 335,
   "metadata": {},
   "outputs": [
    {
     "data": {
      "text/plain": [
       "['Action',\n",
       " 'Adult Animation',\n",
       " 'Adventure',\n",
       " 'Animals & Nature',\n",
       " 'Animation',\n",
       " 'Anime',\n",
       " 'Anthology',\n",
       " 'Arthouse',\n",
       " 'Arts',\n",
       " 'Biographical',\n",
       " 'Black Stories',\n",
       " 'British',\n",
       " 'Buddy',\n",
       " 'Cartoons',\n",
       " 'Family',\n",
       " 'Classics',\n",
       " 'Comedies',\n",
       " 'Comedy',\n",
       " 'Coming of Age',\n",
       " 'Cooking',\n",
       " 'Crime',\n",
       " 'Cult',\n",
       " 'Dance',\n",
       " 'Disaster',\n",
       " 'Documentary',\n",
       " 'Drama',\n",
       " 'Entertainment',\n",
       " 'Faith',\n",
       " 'Family',\n",
       " 'Fantasy',\n",
       " 'Fitness',\n",
       " 'Game Show',\n",
       " 'Health',\n",
       " 'History',\n",
       " 'Horror',\n",
       " 'Independent',\n",
       " 'International',\n",
       " 'Kids',\n",
       " 'KoreanTVShows',\n",
       " 'LGBTQ+',\n",
       " 'Latino',\n",
       " 'Lifestyle',\n",
       " 'Medical',\n",
       " 'Military & War',\n",
       " 'Music',\n",
       " 'Musical',\n",
       " 'Mystery',\n",
       " 'News',\n",
       " 'Parody',\n",
       " 'Reality',\n",
       " 'Romance',\n",
       " 'Sci-Fi & Fantasy',\n",
       " 'Nature',\n",
       " 'Science&Technology',\n",
       " 'Sci-Fi',\n",
       " 'Sitcom',\n",
       " 'SketchComedy',\n",
       " 'SoapOpera/Melodrama',\n",
       " 'Spanish',\n",
       " 'Special Interest',\n",
       " 'Sports',\n",
       " 'Spy',\n",
       " 'Stand Up',\n",
       " 'Superhero',\n",
       " 'Survival',\n",
       " 'Suspense',\n",
       " 'Talk Show',\n",
       " 'Teen',\n",
       " 'Thriller',\n",
       " 'Travel',\n",
       " 'Unscripted',\n",
       " 'Variety',\n",
       " 'Western',\n",
       " 'Young Adult']"
      ]
     },
     "execution_count": 335,
     "metadata": {},
     "output_type": "execute_result"
    }
   ],
   "source": [
    "list(genre_enc.columns)"
   ]
  },
  {
   "cell_type": "code",
   "execution_count": 336,
   "metadata": {},
   "outputs": [
    {
     "data": {
      "text/plain": [
       "(22998, 74)"
      ]
     },
     "execution_count": 336,
     "metadata": {},
     "output_type": "execute_result"
    }
   ],
   "source": [
    "genre_enc.shape"
   ]
  },
  {
   "cell_type": "code",
   "execution_count": 337,
   "metadata": {},
   "outputs": [],
   "source": [
    "df_enc = pd.concat([df, rating_enc, type_enc], axis=1)\n",
    "df_enc = df_enc.drop(['rating', 'type', 'genre'], axis=1)"
   ]
  },
  {
   "cell_type": "code",
   "execution_count": 338,
   "metadata": {},
   "outputs": [
    {
     "data": {
      "text/html": [
       "<div>\n",
       "<style scoped>\n",
       "    .dataframe tbody tr th:only-of-type {\n",
       "        vertical-align: middle;\n",
       "    }\n",
       "\n",
       "    .dataframe tbody tr th {\n",
       "        vertical-align: top;\n",
       "    }\n",
       "\n",
       "    .dataframe thead th {\n",
       "        text-align: right;\n",
       "    }\n",
       "</style>\n",
       "<table border=\"1\" class=\"dataframe\">\n",
       "  <thead>\n",
       "    <tr style=\"text-align: right;\">\n",
       "      <th></th>\n",
       "      <th>id</th>\n",
       "      <th>title</th>\n",
       "      <th>year</th>\n",
       "      <th>description</th>\n",
       "      <th>netflix</th>\n",
       "      <th>amazon</th>\n",
       "      <th>disney</th>\n",
       "      <th>hulu</th>\n",
       "      <th>Rated 13+</th>\n",
       "      <th>Rated 16+</th>\n",
       "      <th>...</th>\n",
       "      <th>Rated R</th>\n",
       "      <th>Rated TV-14</th>\n",
       "      <th>Rated TV-G</th>\n",
       "      <th>Rated TV-MA</th>\n",
       "      <th>Rated TV-PG</th>\n",
       "      <th>Rated TV-Y</th>\n",
       "      <th>Rated TV-Y7</th>\n",
       "      <th>Rated TV-Y7-FV</th>\n",
       "      <th>Movie</th>\n",
       "      <th>Show</th>\n",
       "    </tr>\n",
       "  </thead>\n",
       "  <tbody>\n",
       "    <tr>\n",
       "      <th>0</th>\n",
       "      <td>s1</td>\n",
       "      <td>Dick Johnson Is Dead</td>\n",
       "      <td>2020</td>\n",
       "      <td>As her father nears the end of his life, filmm...</td>\n",
       "      <td>1.0</td>\n",
       "      <td>0.0</td>\n",
       "      <td>0.0</td>\n",
       "      <td>0.0</td>\n",
       "      <td>0</td>\n",
       "      <td>0</td>\n",
       "      <td>...</td>\n",
       "      <td>0</td>\n",
       "      <td>0</td>\n",
       "      <td>0</td>\n",
       "      <td>0</td>\n",
       "      <td>0</td>\n",
       "      <td>0</td>\n",
       "      <td>0</td>\n",
       "      <td>0</td>\n",
       "      <td>1</td>\n",
       "      <td>0</td>\n",
       "    </tr>\n",
       "    <tr>\n",
       "      <th>1</th>\n",
       "      <td>s2</td>\n",
       "      <td>Blood &amp; Water</td>\n",
       "      <td>2021</td>\n",
       "      <td>After crossing paths at a party, a Cape Town t...</td>\n",
       "      <td>1.0</td>\n",
       "      <td>0.0</td>\n",
       "      <td>0.0</td>\n",
       "      <td>0.0</td>\n",
       "      <td>0</td>\n",
       "      <td>0</td>\n",
       "      <td>...</td>\n",
       "      <td>0</td>\n",
       "      <td>0</td>\n",
       "      <td>0</td>\n",
       "      <td>1</td>\n",
       "      <td>0</td>\n",
       "      <td>0</td>\n",
       "      <td>0</td>\n",
       "      <td>0</td>\n",
       "      <td>0</td>\n",
       "      <td>1</td>\n",
       "    </tr>\n",
       "    <tr>\n",
       "      <th>2</th>\n",
       "      <td>s3</td>\n",
       "      <td>Ganglands</td>\n",
       "      <td>2021</td>\n",
       "      <td>To protect his family from a powerful drug lor...</td>\n",
       "      <td>1.0</td>\n",
       "      <td>0.0</td>\n",
       "      <td>0.0</td>\n",
       "      <td>0.0</td>\n",
       "      <td>0</td>\n",
       "      <td>0</td>\n",
       "      <td>...</td>\n",
       "      <td>0</td>\n",
       "      <td>0</td>\n",
       "      <td>0</td>\n",
       "      <td>1</td>\n",
       "      <td>0</td>\n",
       "      <td>0</td>\n",
       "      <td>0</td>\n",
       "      <td>0</td>\n",
       "      <td>0</td>\n",
       "      <td>1</td>\n",
       "    </tr>\n",
       "    <tr>\n",
       "      <th>3</th>\n",
       "      <td>s4</td>\n",
       "      <td>Jailbirds New Orleans</td>\n",
       "      <td>2021</td>\n",
       "      <td>Feuds, flirtations and toilet talk go down amo...</td>\n",
       "      <td>1.0</td>\n",
       "      <td>0.0</td>\n",
       "      <td>0.0</td>\n",
       "      <td>0.0</td>\n",
       "      <td>0</td>\n",
       "      <td>0</td>\n",
       "      <td>...</td>\n",
       "      <td>0</td>\n",
       "      <td>0</td>\n",
       "      <td>0</td>\n",
       "      <td>1</td>\n",
       "      <td>0</td>\n",
       "      <td>0</td>\n",
       "      <td>0</td>\n",
       "      <td>0</td>\n",
       "      <td>0</td>\n",
       "      <td>1</td>\n",
       "    </tr>\n",
       "    <tr>\n",
       "      <th>4</th>\n",
       "      <td>s5</td>\n",
       "      <td>Kota Factory</td>\n",
       "      <td>2021</td>\n",
       "      <td>In a city of coaching centers known to train I...</td>\n",
       "      <td>1.0</td>\n",
       "      <td>0.0</td>\n",
       "      <td>0.0</td>\n",
       "      <td>0.0</td>\n",
       "      <td>0</td>\n",
       "      <td>0</td>\n",
       "      <td>...</td>\n",
       "      <td>0</td>\n",
       "      <td>0</td>\n",
       "      <td>0</td>\n",
       "      <td>1</td>\n",
       "      <td>0</td>\n",
       "      <td>0</td>\n",
       "      <td>0</td>\n",
       "      <td>0</td>\n",
       "      <td>0</td>\n",
       "      <td>1</td>\n",
       "    </tr>\n",
       "  </tbody>\n",
       "</table>\n",
       "<p>5 rows × 25 columns</p>\n",
       "</div>"
      ],
      "text/plain": [
       "   id                  title  year  \\\n",
       "0  s1   Dick Johnson Is Dead  2020   \n",
       "1  s2          Blood & Water  2021   \n",
       "2  s3              Ganglands  2021   \n",
       "3  s4  Jailbirds New Orleans  2021   \n",
       "4  s5           Kota Factory  2021   \n",
       "\n",
       "                                         description  netflix  amazon  disney  \\\n",
       "0  As her father nears the end of his life, filmm...      1.0     0.0     0.0   \n",
       "1  After crossing paths at a party, a Cape Town t...      1.0     0.0     0.0   \n",
       "2  To protect his family from a powerful drug lor...      1.0     0.0     0.0   \n",
       "3  Feuds, flirtations and toilet talk go down amo...      1.0     0.0     0.0   \n",
       "4  In a city of coaching centers known to train I...      1.0     0.0     0.0   \n",
       "\n",
       "   hulu  Rated 13+  Rated 16+  ...  Rated R  Rated TV-14  Rated TV-G  \\\n",
       "0   0.0          0          0  ...        0            0           0   \n",
       "1   0.0          0          0  ...        0            0           0   \n",
       "2   0.0          0          0  ...        0            0           0   \n",
       "3   0.0          0          0  ...        0            0           0   \n",
       "4   0.0          0          0  ...        0            0           0   \n",
       "\n",
       "   Rated TV-MA  Rated TV-PG  Rated TV-Y  Rated TV-Y7  Rated TV-Y7-FV  Movie  \\\n",
       "0            0            0           0            0               0      1   \n",
       "1            1            0           0            0               0      0   \n",
       "2            1            0           0            0               0      0   \n",
       "3            1            0           0            0               0      0   \n",
       "4            1            0           0            0               0      0   \n",
       "\n",
       "   Show  \n",
       "0     0  \n",
       "1     1  \n",
       "2     1  \n",
       "3     1  \n",
       "4     1  \n",
       "\n",
       "[5 rows x 25 columns]"
      ]
     },
     "execution_count": 338,
     "metadata": {},
     "output_type": "execute_result"
    }
   ],
   "source": [
    "df_enc.head()"
   ]
  },
  {
   "cell_type": "markdown",
   "metadata": {},
   "source": [
    "Lastly, we must combine duplicate rows that occur from using several datasets"
   ]
  },
  {
   "cell_type": "code",
   "execution_count": 339,
   "metadata": {},
   "outputs": [],
   "source": [
    "agg_func = {'id':'first', \n",
    "            'year':'first', \n",
    "            'description':'first',\n",
    "            'netflix':'sum',\n",
    "            'amazon':'sum', \n",
    "            'disney':'sum',\n",
    "            'hulu':'sum', \n",
    "            'Rated 13+':'sum', \n",
    "            'Rated 16+':'sum', \n",
    "            'Rated 18+':'sum', \n",
    "            'Rated G':'sum', \n",
    "            'Rated NC-17':'sum',\n",
    "            'Rated PG':'sum', \n",
    "            'Rated PG-13':'sum', \n",
    "            'Rated R':'sum', \n",
    "            'Rated TV-14':'sum', \n",
    "            'Rated TV-G':'sum',\n",
    "            'Rated TV-MA':'sum', \n",
    "            'Rated TV-PG':'sum',\n",
    "            'Rated TV-Y':'sum', \n",
    "            'Rated TV-Y7':'sum',\n",
    "            'Rated TV-Y7-FV':'sum', \n",
    "            'Movie':'sum',\n",
    "            'Show':'sum'}"
   ]
  },
  {
   "cell_type": "code",
   "execution_count": 340,
   "metadata": {},
   "outputs": [],
   "source": [
    "df_enc = df_enc.groupby(df_enc['title']).aggregate(agg_func)"
   ]
  },
  {
   "cell_type": "code",
   "execution_count": 341,
   "metadata": {},
   "outputs": [],
   "source": [
    "df_enc.reset_index(inplace=True)"
   ]
  },
  {
   "cell_type": "code",
   "execution_count": 342,
   "metadata": {},
   "outputs": [
    {
     "data": {
      "text/html": [
       "<div>\n",
       "<style scoped>\n",
       "    .dataframe tbody tr th:only-of-type {\n",
       "        vertical-align: middle;\n",
       "    }\n",
       "\n",
       "    .dataframe tbody tr th {\n",
       "        vertical-align: top;\n",
       "    }\n",
       "\n",
       "    .dataframe thead th {\n",
       "        text-align: right;\n",
       "    }\n",
       "</style>\n",
       "<table border=\"1\" class=\"dataframe\">\n",
       "  <thead>\n",
       "    <tr style=\"text-align: right;\">\n",
       "      <th></th>\n",
       "      <th>title</th>\n",
       "      <th>id</th>\n",
       "      <th>year</th>\n",
       "      <th>description</th>\n",
       "      <th>netflix</th>\n",
       "      <th>amazon</th>\n",
       "      <th>disney</th>\n",
       "      <th>hulu</th>\n",
       "      <th>Rated 13+</th>\n",
       "      <th>Rated 16+</th>\n",
       "      <th>...</th>\n",
       "      <th>Rated R</th>\n",
       "      <th>Rated TV-14</th>\n",
       "      <th>Rated TV-G</th>\n",
       "      <th>Rated TV-MA</th>\n",
       "      <th>Rated TV-PG</th>\n",
       "      <th>Rated TV-Y</th>\n",
       "      <th>Rated TV-Y7</th>\n",
       "      <th>Rated TV-Y7-FV</th>\n",
       "      <th>Movie</th>\n",
       "      <th>Show</th>\n",
       "    </tr>\n",
       "  </thead>\n",
       "  <tbody>\n",
       "    <tr>\n",
       "      <th>0</th>\n",
       "      <td>\"Mixed Up\"</td>\n",
       "      <td>s5548</td>\n",
       "      <td>2020</td>\n",
       "      <td>\"Mixed Up\" examines casual factors that make u...</td>\n",
       "      <td>0.0</td>\n",
       "      <td>1.0</td>\n",
       "      <td>0.0</td>\n",
       "      <td>0.0</td>\n",
       "      <td>0</td>\n",
       "      <td>1</td>\n",
       "      <td>...</td>\n",
       "      <td>0</td>\n",
       "      <td>0</td>\n",
       "      <td>0</td>\n",
       "      <td>0</td>\n",
       "      <td>0</td>\n",
       "      <td>0</td>\n",
       "      <td>0</td>\n",
       "      <td>0</td>\n",
       "      <td>1</td>\n",
       "      <td>0</td>\n",
       "    </tr>\n",
       "    <tr>\n",
       "      <th>1</th>\n",
       "      <td>\"The Paramedic Angel\"</td>\n",
       "      <td>s5978</td>\n",
       "      <td>2021</td>\n",
       "      <td>The tragedy of a loving family man and paramed...</td>\n",
       "      <td>0.0</td>\n",
       "      <td>1.0</td>\n",
       "      <td>0.0</td>\n",
       "      <td>0.0</td>\n",
       "      <td>0</td>\n",
       "      <td>0</td>\n",
       "      <td>...</td>\n",
       "      <td>0</td>\n",
       "      <td>0</td>\n",
       "      <td>0</td>\n",
       "      <td>0</td>\n",
       "      <td>0</td>\n",
       "      <td>0</td>\n",
       "      <td>0</td>\n",
       "      <td>0</td>\n",
       "      <td>0</td>\n",
       "      <td>1</td>\n",
       "    </tr>\n",
       "    <tr>\n",
       "      <th>2</th>\n",
       "      <td>#Alive</td>\n",
       "      <td>s2037</td>\n",
       "      <td>2020</td>\n",
       "      <td>As a grisly virus rampages a city, a lone man ...</td>\n",
       "      <td>1.0</td>\n",
       "      <td>0.0</td>\n",
       "      <td>0.0</td>\n",
       "      <td>0.0</td>\n",
       "      <td>0</td>\n",
       "      <td>0</td>\n",
       "      <td>...</td>\n",
       "      <td>0</td>\n",
       "      <td>0</td>\n",
       "      <td>0</td>\n",
       "      <td>1</td>\n",
       "      <td>0</td>\n",
       "      <td>0</td>\n",
       "      <td>0</td>\n",
       "      <td>0</td>\n",
       "      <td>1</td>\n",
       "      <td>0</td>\n",
       "    </tr>\n",
       "    <tr>\n",
       "      <th>3</th>\n",
       "      <td>#AnneFrank - Parallel Stories</td>\n",
       "      <td>s2305</td>\n",
       "      <td>2019</td>\n",
       "      <td>Through her diary, Anne Frank's story is retol...</td>\n",
       "      <td>1.0</td>\n",
       "      <td>0.0</td>\n",
       "      <td>0.0</td>\n",
       "      <td>0.0</td>\n",
       "      <td>0</td>\n",
       "      <td>0</td>\n",
       "      <td>...</td>\n",
       "      <td>0</td>\n",
       "      <td>1</td>\n",
       "      <td>0</td>\n",
       "      <td>0</td>\n",
       "      <td>0</td>\n",
       "      <td>0</td>\n",
       "      <td>0</td>\n",
       "      <td>0</td>\n",
       "      <td>1</td>\n",
       "      <td>0</td>\n",
       "    </tr>\n",
       "    <tr>\n",
       "      <th>4</th>\n",
       "      <td>#FriendButMarried</td>\n",
       "      <td>s2482</td>\n",
       "      <td>2018</td>\n",
       "      <td>Pining for his high school crush for years, a ...</td>\n",
       "      <td>1.0</td>\n",
       "      <td>0.0</td>\n",
       "      <td>0.0</td>\n",
       "      <td>0.0</td>\n",
       "      <td>0</td>\n",
       "      <td>0</td>\n",
       "      <td>...</td>\n",
       "      <td>0</td>\n",
       "      <td>0</td>\n",
       "      <td>1</td>\n",
       "      <td>0</td>\n",
       "      <td>0</td>\n",
       "      <td>0</td>\n",
       "      <td>0</td>\n",
       "      <td>0</td>\n",
       "      <td>1</td>\n",
       "      <td>0</td>\n",
       "    </tr>\n",
       "    <tr>\n",
       "      <th>...</th>\n",
       "      <td>...</td>\n",
       "      <td>...</td>\n",
       "      <td>...</td>\n",
       "      <td>...</td>\n",
       "      <td>...</td>\n",
       "      <td>...</td>\n",
       "      <td>...</td>\n",
       "      <td>...</td>\n",
       "      <td>...</td>\n",
       "      <td>...</td>\n",
       "      <td>...</td>\n",
       "      <td>...</td>\n",
       "      <td>...</td>\n",
       "      <td>...</td>\n",
       "      <td>...</td>\n",
       "      <td>...</td>\n",
       "      <td>...</td>\n",
       "      <td>...</td>\n",
       "      <td>...</td>\n",
       "      <td>...</td>\n",
       "      <td>...</td>\n",
       "    </tr>\n",
       "    <tr>\n",
       "      <th>22110</th>\n",
       "      <td>忍者ハットリくん</td>\n",
       "      <td>s6178</td>\n",
       "      <td>2012</td>\n",
       "      <td>Hailing from the mountains of Iga, Kanzo Hatto...</td>\n",
       "      <td>1.0</td>\n",
       "      <td>0.0</td>\n",
       "      <td>0.0</td>\n",
       "      <td>0.0</td>\n",
       "      <td>0</td>\n",
       "      <td>0</td>\n",
       "      <td>...</td>\n",
       "      <td>0</td>\n",
       "      <td>0</td>\n",
       "      <td>0</td>\n",
       "      <td>0</td>\n",
       "      <td>0</td>\n",
       "      <td>0</td>\n",
       "      <td>1</td>\n",
       "      <td>0</td>\n",
       "      <td>0</td>\n",
       "      <td>1</td>\n",
       "    </tr>\n",
       "    <tr>\n",
       "      <th>22111</th>\n",
       "      <td>海的儿子</td>\n",
       "      <td>s4915</td>\n",
       "      <td>2016</td>\n",
       "      <td>Two brothers start a new life in Singapore, wh...</td>\n",
       "      <td>1.0</td>\n",
       "      <td>0.0</td>\n",
       "      <td>0.0</td>\n",
       "      <td>0.0</td>\n",
       "      <td>0</td>\n",
       "      <td>0</td>\n",
       "      <td>...</td>\n",
       "      <td>0</td>\n",
       "      <td>1</td>\n",
       "      <td>0</td>\n",
       "      <td>0</td>\n",
       "      <td>0</td>\n",
       "      <td>0</td>\n",
       "      <td>0</td>\n",
       "      <td>0</td>\n",
       "      <td>0</td>\n",
       "      <td>1</td>\n",
       "    </tr>\n",
       "    <tr>\n",
       "      <th>22112</th>\n",
       "      <td>마녀사냥</td>\n",
       "      <td>s7102</td>\n",
       "      <td>2015</td>\n",
       "      <td>Four Korean celebrity men and guest stars of b...</td>\n",
       "      <td>1.0</td>\n",
       "      <td>0.0</td>\n",
       "      <td>0.0</td>\n",
       "      <td>0.0</td>\n",
       "      <td>0</td>\n",
       "      <td>0</td>\n",
       "      <td>...</td>\n",
       "      <td>0</td>\n",
       "      <td>0</td>\n",
       "      <td>0</td>\n",
       "      <td>1</td>\n",
       "      <td>0</td>\n",
       "      <td>0</td>\n",
       "      <td>0</td>\n",
       "      <td>0</td>\n",
       "      <td>0</td>\n",
       "      <td>1</td>\n",
       "    </tr>\n",
       "    <tr>\n",
       "      <th>22113</th>\n",
       "      <td>반드시 잡는다</td>\n",
       "      <td>s5023</td>\n",
       "      <td>2017</td>\n",
       "      <td>After people in his town start turning up dead...</td>\n",
       "      <td>1.0</td>\n",
       "      <td>0.0</td>\n",
       "      <td>0.0</td>\n",
       "      <td>0.0</td>\n",
       "      <td>0</td>\n",
       "      <td>0</td>\n",
       "      <td>...</td>\n",
       "      <td>0</td>\n",
       "      <td>0</td>\n",
       "      <td>0</td>\n",
       "      <td>1</td>\n",
       "      <td>0</td>\n",
       "      <td>0</td>\n",
       "      <td>0</td>\n",
       "      <td>0</td>\n",
       "      <td>1</td>\n",
       "      <td>0</td>\n",
       "    </tr>\n",
       "    <tr>\n",
       "      <th>22114</th>\n",
       "      <td>최강전사 미니특공대 : 영웅의 탄생</td>\n",
       "      <td>s7109</td>\n",
       "      <td>2018</td>\n",
       "      <td>Miniforce, a special task force of elite range...</td>\n",
       "      <td>1.0</td>\n",
       "      <td>0.0</td>\n",
       "      <td>0.0</td>\n",
       "      <td>0.0</td>\n",
       "      <td>0</td>\n",
       "      <td>0</td>\n",
       "      <td>...</td>\n",
       "      <td>0</td>\n",
       "      <td>0</td>\n",
       "      <td>0</td>\n",
       "      <td>0</td>\n",
       "      <td>0</td>\n",
       "      <td>0</td>\n",
       "      <td>1</td>\n",
       "      <td>0</td>\n",
       "      <td>1</td>\n",
       "      <td>0</td>\n",
       "    </tr>\n",
       "  </tbody>\n",
       "</table>\n",
       "<p>22115 rows × 25 columns</p>\n",
       "</div>"
      ],
      "text/plain": [
       "                               title     id  year  \\\n",
       "0                         \"Mixed Up\"  s5548  2020   \n",
       "1              \"The Paramedic Angel\"  s5978  2021   \n",
       "2                             #Alive  s2037  2020   \n",
       "3      #AnneFrank - Parallel Stories  s2305  2019   \n",
       "4                  #FriendButMarried  s2482  2018   \n",
       "...                              ...    ...   ...   \n",
       "22110                       忍者ハットリくん  s6178  2012   \n",
       "22111                           海的儿子  s4915  2016   \n",
       "22112                           마녀사냥  s7102  2015   \n",
       "22113                        반드시 잡는다  s5023  2017   \n",
       "22114            최강전사 미니특공대 : 영웅의 탄생  s7109  2018   \n",
       "\n",
       "                                             description  netflix  amazon  \\\n",
       "0      \"Mixed Up\" examines casual factors that make u...      0.0     1.0   \n",
       "1      The tragedy of a loving family man and paramed...      0.0     1.0   \n",
       "2      As a grisly virus rampages a city, a lone man ...      1.0     0.0   \n",
       "3      Through her diary, Anne Frank's story is retol...      1.0     0.0   \n",
       "4      Pining for his high school crush for years, a ...      1.0     0.0   \n",
       "...                                                  ...      ...     ...   \n",
       "22110  Hailing from the mountains of Iga, Kanzo Hatto...      1.0     0.0   \n",
       "22111  Two brothers start a new life in Singapore, wh...      1.0     0.0   \n",
       "22112  Four Korean celebrity men and guest stars of b...      1.0     0.0   \n",
       "22113  After people in his town start turning up dead...      1.0     0.0   \n",
       "22114  Miniforce, a special task force of elite range...      1.0     0.0   \n",
       "\n",
       "       disney  hulu  Rated 13+  Rated 16+  ...  Rated R  Rated TV-14  \\\n",
       "0         0.0   0.0          0          1  ...        0            0   \n",
       "1         0.0   0.0          0          0  ...        0            0   \n",
       "2         0.0   0.0          0          0  ...        0            0   \n",
       "3         0.0   0.0          0          0  ...        0            1   \n",
       "4         0.0   0.0          0          0  ...        0            0   \n",
       "...       ...   ...        ...        ...  ...      ...          ...   \n",
       "22110     0.0   0.0          0          0  ...        0            0   \n",
       "22111     0.0   0.0          0          0  ...        0            1   \n",
       "22112     0.0   0.0          0          0  ...        0            0   \n",
       "22113     0.0   0.0          0          0  ...        0            0   \n",
       "22114     0.0   0.0          0          0  ...        0            0   \n",
       "\n",
       "       Rated TV-G  Rated TV-MA  Rated TV-PG  Rated TV-Y  Rated TV-Y7  \\\n",
       "0               0            0            0           0            0   \n",
       "1               0            0            0           0            0   \n",
       "2               0            1            0           0            0   \n",
       "3               0            0            0           0            0   \n",
       "4               1            0            0           0            0   \n",
       "...           ...          ...          ...         ...          ...   \n",
       "22110           0            0            0           0            1   \n",
       "22111           0            0            0           0            0   \n",
       "22112           0            1            0           0            0   \n",
       "22113           0            1            0           0            0   \n",
       "22114           0            0            0           0            1   \n",
       "\n",
       "       Rated TV-Y7-FV  Movie  Show  \n",
       "0                   0      1     0  \n",
       "1                   0      0     1  \n",
       "2                   0      1     0  \n",
       "3                   0      1     0  \n",
       "4                   0      1     0  \n",
       "...               ...    ...   ...  \n",
       "22110               0      0     1  \n",
       "22111               0      0     1  \n",
       "22112               0      0     1  \n",
       "22113               0      1     0  \n",
       "22114               0      1     0  \n",
       "\n",
       "[22115 rows x 25 columns]"
      ]
     },
     "execution_count": 342,
     "metadata": {},
     "output_type": "execute_result"
    }
   ],
   "source": [
    "df_enc"
   ]
  },
  {
   "cell_type": "markdown",
   "metadata": {},
   "source": [
    "# Recommendation System"
   ]
  },
  {
   "cell_type": "code",
   "execution_count": 343,
   "metadata": {},
   "outputs": [],
   "source": [
    "# Dropping the values that cannot be used in cosine similarity\n",
    "df_rs = df_enc.drop(['id','title','year','description'],axis=1)"
   ]
  },
  {
   "cell_type": "code",
   "execution_count": 345,
   "metadata": {},
   "outputs": [
    {
     "ename": "MemoryError",
     "evalue": "Unable to allocate 3.64 GiB for an array with shape (22115, 22115) and data type float64",
     "output_type": "error",
     "traceback": [
      "\u001b[1;31m---------------------------------------------------------------------------\u001b[0m",
      "\u001b[1;31mMemoryError\u001b[0m                               Traceback (most recent call last)",
      "Cell \u001b[1;32mIn[345], line 1\u001b[0m\n\u001b[1;32m----> 1\u001b[0m cosine_sim \u001b[38;5;241m=\u001b[39m \u001b[43mcosine_similarity\u001b[49m\u001b[43m(\u001b[49m\u001b[43mdf_rs\u001b[49m\u001b[43m,\u001b[49m\u001b[43m \u001b[49m\u001b[43mdf_rs\u001b[49m\u001b[43m)\u001b[49m\n",
      "File \u001b[1;32m~\\AppData\\Local\\Programs\\Python\\Python311\\Lib\\site-packages\\sklearn\\utils\\_param_validation.py:213\u001b[0m, in \u001b[0;36mvalidate_params.<locals>.decorator.<locals>.wrapper\u001b[1;34m(*args, **kwargs)\u001b[0m\n\u001b[0;32m    207\u001b[0m \u001b[38;5;28;01mtry\u001b[39;00m:\n\u001b[0;32m    208\u001b[0m     \u001b[38;5;28;01mwith\u001b[39;00m config_context(\n\u001b[0;32m    209\u001b[0m         skip_parameter_validation\u001b[38;5;241m=\u001b[39m(\n\u001b[0;32m    210\u001b[0m             prefer_skip_nested_validation \u001b[38;5;129;01mor\u001b[39;00m global_skip_validation\n\u001b[0;32m    211\u001b[0m         )\n\u001b[0;32m    212\u001b[0m     ):\n\u001b[1;32m--> 213\u001b[0m         \u001b[38;5;28;01mreturn\u001b[39;00m \u001b[43mfunc\u001b[49m\u001b[43m(\u001b[49m\u001b[38;5;241;43m*\u001b[39;49m\u001b[43margs\u001b[49m\u001b[43m,\u001b[49m\u001b[43m \u001b[49m\u001b[38;5;241;43m*\u001b[39;49m\u001b[38;5;241;43m*\u001b[39;49m\u001b[43mkwargs\u001b[49m\u001b[43m)\u001b[49m\n\u001b[0;32m    214\u001b[0m \u001b[38;5;28;01mexcept\u001b[39;00m InvalidParameterError \u001b[38;5;28;01mas\u001b[39;00m e:\n\u001b[0;32m    215\u001b[0m     \u001b[38;5;66;03m# When the function is just a wrapper around an estimator, we allow\u001b[39;00m\n\u001b[0;32m    216\u001b[0m     \u001b[38;5;66;03m# the function to delegate validation to the estimator, but we replace\u001b[39;00m\n\u001b[0;32m    217\u001b[0m     \u001b[38;5;66;03m# the name of the estimator by the name of the function in the error\u001b[39;00m\n\u001b[0;32m    218\u001b[0m     \u001b[38;5;66;03m# message to avoid confusion.\u001b[39;00m\n\u001b[0;32m    219\u001b[0m     msg \u001b[38;5;241m=\u001b[39m re\u001b[38;5;241m.\u001b[39msub(\n\u001b[0;32m    220\u001b[0m         \u001b[38;5;124mr\u001b[39m\u001b[38;5;124m\"\u001b[39m\u001b[38;5;124mparameter of \u001b[39m\u001b[38;5;124m\\\u001b[39m\u001b[38;5;124mw+ must be\u001b[39m\u001b[38;5;124m\"\u001b[39m,\n\u001b[0;32m    221\u001b[0m         \u001b[38;5;124mf\u001b[39m\u001b[38;5;124m\"\u001b[39m\u001b[38;5;124mparameter of \u001b[39m\u001b[38;5;132;01m{\u001b[39;00mfunc\u001b[38;5;241m.\u001b[39m\u001b[38;5;18m__qualname__\u001b[39m\u001b[38;5;132;01m}\u001b[39;00m\u001b[38;5;124m must be\u001b[39m\u001b[38;5;124m\"\u001b[39m,\n\u001b[0;32m    222\u001b[0m         \u001b[38;5;28mstr\u001b[39m(e),\n\u001b[0;32m    223\u001b[0m     )\n",
      "File \u001b[1;32m~\\AppData\\Local\\Programs\\Python\\Python311\\Lib\\site-packages\\sklearn\\metrics\\pairwise.py:1665\u001b[0m, in \u001b[0;36mcosine_similarity\u001b[1;34m(X, Y, dense_output)\u001b[0m\n\u001b[0;32m   1662\u001b[0m \u001b[38;5;28;01melse\u001b[39;00m:\n\u001b[0;32m   1663\u001b[0m     Y_normalized \u001b[38;5;241m=\u001b[39m normalize(Y, copy\u001b[38;5;241m=\u001b[39m\u001b[38;5;28;01mTrue\u001b[39;00m)\n\u001b[1;32m-> 1665\u001b[0m K \u001b[38;5;241m=\u001b[39m \u001b[43msafe_sparse_dot\u001b[49m\u001b[43m(\u001b[49m\u001b[43mX_normalized\u001b[49m\u001b[43m,\u001b[49m\u001b[43m \u001b[49m\u001b[43mY_normalized\u001b[49m\u001b[38;5;241;43m.\u001b[39;49m\u001b[43mT\u001b[49m\u001b[43m,\u001b[49m\u001b[43m \u001b[49m\u001b[43mdense_output\u001b[49m\u001b[38;5;241;43m=\u001b[39;49m\u001b[43mdense_output\u001b[49m\u001b[43m)\u001b[49m\n\u001b[0;32m   1667\u001b[0m \u001b[38;5;28;01mreturn\u001b[39;00m K\n",
      "File \u001b[1;32m~\\AppData\\Local\\Programs\\Python\\Python311\\Lib\\site-packages\\sklearn\\utils\\extmath.py:189\u001b[0m, in \u001b[0;36msafe_sparse_dot\u001b[1;34m(a, b, dense_output)\u001b[0m\n\u001b[0;32m    187\u001b[0m         ret \u001b[38;5;241m=\u001b[39m np\u001b[38;5;241m.\u001b[39mdot(a, b)\n\u001b[0;32m    188\u001b[0m \u001b[38;5;28;01melse\u001b[39;00m:\n\u001b[1;32m--> 189\u001b[0m     ret \u001b[38;5;241m=\u001b[39m \u001b[43ma\u001b[49m\u001b[43m \u001b[49m\u001b[38;5;241;43m@\u001b[39;49m\u001b[43m \u001b[49m\u001b[43mb\u001b[49m\n\u001b[0;32m    191\u001b[0m \u001b[38;5;28;01mif\u001b[39;00m (\n\u001b[0;32m    192\u001b[0m     sparse\u001b[38;5;241m.\u001b[39missparse(a)\n\u001b[0;32m    193\u001b[0m     \u001b[38;5;129;01mand\u001b[39;00m sparse\u001b[38;5;241m.\u001b[39missparse(b)\n\u001b[0;32m    194\u001b[0m     \u001b[38;5;129;01mand\u001b[39;00m dense_output\n\u001b[0;32m    195\u001b[0m     \u001b[38;5;129;01mand\u001b[39;00m \u001b[38;5;28mhasattr\u001b[39m(ret, \u001b[38;5;124m\"\u001b[39m\u001b[38;5;124mtoarray\u001b[39m\u001b[38;5;124m\"\u001b[39m)\n\u001b[0;32m    196\u001b[0m ):\n\u001b[0;32m    197\u001b[0m     \u001b[38;5;28;01mreturn\u001b[39;00m ret\u001b[38;5;241m.\u001b[39mtoarray()\n",
      "\u001b[1;31mMemoryError\u001b[0m: Unable to allocate 3.64 GiB for an array with shape (22115, 22115) and data type float64"
     ]
    }
   ],
   "source": [
    "cosine_sim = cosine_similarity(df_rs, df_rs)"
   ]
  },
  {
   "cell_type": "code",
   "execution_count": 346,
   "metadata": {},
   "outputs": [
    {
     "name": "stdout",
     "output_type": "stream",
     "text": [
      "5803                         El Barco\n",
      "12837                   North & South\n",
      "10479                    Little Lunch\n",
      "14519                    Red vs. Blue\n",
      "14982    Russell Peters vs. the World\n",
      "4215               Comedy Bang! Bang!\n",
      "10012                       LOST SONG\n",
      "15744                         Shtisel\n",
      "7706                   Happy 300 Days\n",
      "7708                        Happy And\n",
      "Name: title, dtype: object\n"
     ]
    }
   ],
   "source": [
    "def get_recommendations(title_list, cosine_sim_matrix, df, top_n=10):\n",
    "    avg_sim_scores = np.zeros(len(df))\n",
    "\n",
    "    for title in title_list:\n",
    "        # Check if the title exists in the dataset\n",
    "        if title not in df['title'].values:\n",
    "            print(\"Warning: '{}' not found in the dataset.\".format(title))\n",
    "            continue\n",
    "        \n",
    "        # Get the index of the title in the DataFrame\n",
    "        idx = df[df['title'] == title].index[0]\n",
    "        sim_scores = cosine_sim_matrix[idx]\n",
    "        \n",
    "        # Add the similarity scores to the average scores array\n",
    "        avg_sim_scores += sim_scores\n",
    "\n",
    "    # Average the similarity scores across all titles in the input list\n",
    "    avg_sim_scores /= len(title_list)\n",
    "    movie_indices = np.argsort(avg_sim_scores)[::-1][:top_n]\n",
    "\n",
    "    recommendations = df.iloc[movie_indices]['title']\n",
    "\n",
    "    return recommendations\n",
    "\n",
    "movie_titles = [\"Henry Danger\", \"Inception\", \"Stranger Things\"]\n",
    "recommendations = get_recommendations(movie_titles, cosine_sim, df_enc)\n",
    "print(recommendations)"
   ]
  },
  {
   "cell_type": "code",
   "execution_count": 352,
   "metadata": {},
   "outputs": [
    {
     "data": {
      "text/plain": [
       "9956                  L.A.’s Finest\n",
       "8146                      Hollywood\n",
       "18723                 The Magicians\n",
       "16117                        Somos.\n",
       "4648                      Damnation\n",
       "5892     Ellen DeGeneres: Relatable\n",
       "21055                         Vexed\n",
       "21062               Victim Number 8\n",
       "16125                 Song Exploder\n",
       "2993                    Borderliner\n",
       "Name: title, dtype: object"
      ]
     },
     "execution_count": 352,
     "metadata": {},
     "output_type": "execute_result"
    }
   ],
   "source": [
    "get_recommendations(['Food Wars!: Shokugeki no Soma'],cosine_sim,df_enc)"
   ]
  },
  {
   "cell_type": "code",
   "execution_count": 350,
   "metadata": {},
   "outputs": [
    {
     "data": {
      "text/html": [
       "<div>\n",
       "<style scoped>\n",
       "    .dataframe tbody tr th:only-of-type {\n",
       "        vertical-align: middle;\n",
       "    }\n",
       "\n",
       "    .dataframe tbody tr th {\n",
       "        vertical-align: top;\n",
       "    }\n",
       "\n",
       "    .dataframe thead th {\n",
       "        text-align: right;\n",
       "    }\n",
       "</style>\n",
       "<table border=\"1\" class=\"dataframe\">\n",
       "  <thead>\n",
       "    <tr style=\"text-align: right;\">\n",
       "      <th></th>\n",
       "      <th>title</th>\n",
       "      <th>id</th>\n",
       "      <th>year</th>\n",
       "      <th>description</th>\n",
       "      <th>netflix</th>\n",
       "      <th>amazon</th>\n",
       "      <th>disney</th>\n",
       "      <th>hulu</th>\n",
       "      <th>Rated 13+</th>\n",
       "      <th>Rated 16+</th>\n",
       "      <th>...</th>\n",
       "      <th>Rated R</th>\n",
       "      <th>Rated TV-14</th>\n",
       "      <th>Rated TV-G</th>\n",
       "      <th>Rated TV-MA</th>\n",
       "      <th>Rated TV-PG</th>\n",
       "      <th>Rated TV-Y</th>\n",
       "      <th>Rated TV-Y7</th>\n",
       "      <th>Rated TV-Y7-FV</th>\n",
       "      <th>Movie</th>\n",
       "      <th>Show</th>\n",
       "    </tr>\n",
       "  </thead>\n",
       "  <tbody>\n",
       "    <tr>\n",
       "      <th>6615</th>\n",
       "      <td>Food Wars!</td>\n",
       "      <td>s2782</td>\n",
       "      <td>2015</td>\n",
       "      <td>Souma is a teenage chef who is always looking ...</td>\n",
       "      <td>0.0</td>\n",
       "      <td>0.0</td>\n",
       "      <td>0.0</td>\n",
       "      <td>1.0</td>\n",
       "      <td>0</td>\n",
       "      <td>0</td>\n",
       "      <td>...</td>\n",
       "      <td>0</td>\n",
       "      <td>0</td>\n",
       "      <td>0</td>\n",
       "      <td>1</td>\n",
       "      <td>0</td>\n",
       "      <td>0</td>\n",
       "      <td>0</td>\n",
       "      <td>0</td>\n",
       "      <td>0</td>\n",
       "      <td>1</td>\n",
       "    </tr>\n",
       "    <tr>\n",
       "      <th>6616</th>\n",
       "      <td>Food Wars!: Shokugeki no Soma</td>\n",
       "      <td>s1909</td>\n",
       "      <td>2016</td>\n",
       "      <td>Young chef Soma enters the prestigious Totsuki...</td>\n",
       "      <td>1.0</td>\n",
       "      <td>0.0</td>\n",
       "      <td>0.0</td>\n",
       "      <td>0.0</td>\n",
       "      <td>0</td>\n",
       "      <td>0</td>\n",
       "      <td>...</td>\n",
       "      <td>0</td>\n",
       "      <td>0</td>\n",
       "      <td>0</td>\n",
       "      <td>1</td>\n",
       "      <td>0</td>\n",
       "      <td>0</td>\n",
       "      <td>0</td>\n",
       "      <td>0</td>\n",
       "      <td>0</td>\n",
       "      <td>1</td>\n",
       "    </tr>\n",
       "  </tbody>\n",
       "</table>\n",
       "<p>2 rows × 25 columns</p>\n",
       "</div>"
      ],
      "text/plain": [
       "                              title     id  year  \\\n",
       "6615                     Food Wars!  s2782  2015   \n",
       "6616  Food Wars!: Shokugeki no Soma  s1909  2016   \n",
       "\n",
       "                                            description  netflix  amazon  \\\n",
       "6615  Souma is a teenage chef who is always looking ...      0.0     0.0   \n",
       "6616  Young chef Soma enters the prestigious Totsuki...      1.0     0.0   \n",
       "\n",
       "      disney  hulu  Rated 13+  Rated 16+  ...  Rated R  Rated TV-14  \\\n",
       "6615     0.0   1.0          0          0  ...        0            0   \n",
       "6616     0.0   0.0          0          0  ...        0            0   \n",
       "\n",
       "      Rated TV-G  Rated TV-MA  Rated TV-PG  Rated TV-Y  Rated TV-Y7  \\\n",
       "6615           0            1            0           0            0   \n",
       "6616           0            1            0           0            0   \n",
       "\n",
       "      Rated TV-Y7-FV  Movie  Show  \n",
       "6615               0      0     1  \n",
       "6616               0      0     1  \n",
       "\n",
       "[2 rows x 25 columns]"
      ]
     },
     "execution_count": 350,
     "metadata": {},
     "output_type": "execute_result"
    }
   ],
   "source": [
    "df_enc[df_enc['title'].str.contains('Food Wars')]"
   ]
  },
  {
   "cell_type": "code",
   "execution_count": null,
   "metadata": {},
   "outputs": [],
   "source": []
  }
 ],
 "metadata": {
  "kernelspec": {
   "display_name": "Python 3 (ipykernel)",
   "language": "python",
   "name": "python3"
  },
  "language_info": {
   "codemirror_mode": {
    "name": "ipython",
    "version": 3
   },
   "file_extension": ".py",
   "mimetype": "text/x-python",
   "name": "python",
   "nbconvert_exporter": "python",
   "pygments_lexer": "ipython3",
   "version": "3.11.5"
  }
 },
 "nbformat": 4,
 "nbformat_minor": 4
}
